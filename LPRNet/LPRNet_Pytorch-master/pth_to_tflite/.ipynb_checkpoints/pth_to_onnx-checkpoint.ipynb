{
 "cells": [
  {
   "cell_type": "code",
   "execution_count": 5,
   "metadata": {},
   "outputs": [],
   "source": [
    "import io\n",
    "import torch\n",
    "import torch.onnx\n",
    "from model.LPRNet_i import *\n",
    "device = torch.device(\"cuda:0\" if torch.cuda.is_available() else \"cpu\")"
   ]
  },
  {
   "cell_type": "code",
   "execution_count": 6,
   "metadata": {},
   "outputs": [],
   "source": [
    "lprnet = build_lprnet(lpr_max_len=8, phase=False, class_num=66, dropout_rate=0.5)"
   ]
  },
  {
   "cell_type": "code",
   "execution_count": 7,
   "metadata": {},
   "outputs": [],
   "source": [
    "pthfile ='./LPRNet_Acc_85.pth'"
   ]
  },
  {
   "cell_type": "code",
   "execution_count": 8,
   "metadata": {},
   "outputs": [
    {
     "ename": "FileNotFoundError",
     "evalue": "[Errno 2] No such file or directory: './LPRNet_Acc_85.pth'",
     "output_type": "error",
     "traceback": [
      "\u001b[0;31m---------------------------------------------------------------------------\u001b[0m",
      "\u001b[0;31mFileNotFoundError\u001b[0m                         Traceback (most recent call last)",
      "\u001b[0;32m<ipython-input-8-827468e6db49>\u001b[0m in \u001b[0;36m<module>\u001b[0;34m\u001b[0m\n\u001b[0;32m----> 1\u001b[0;31m \u001b[0mlprnet\u001b[0m \u001b[0;34m=\u001b[0m \u001b[0mtorch\u001b[0m\u001b[0;34m.\u001b[0m\u001b[0mload\u001b[0m\u001b[0;34m(\u001b[0m\u001b[0mpthfile\u001b[0m\u001b[0;34m,\u001b[0m \u001b[0mmap_location\u001b[0m\u001b[0;34m=\u001b[0m\u001b[0;34m'cpu'\u001b[0m\u001b[0;34m)\u001b[0m\u001b[0;34m\u001b[0m\u001b[0;34m\u001b[0m\u001b[0m\n\u001b[0m\u001b[1;32m      2\u001b[0m \u001b[0;31m#lprnet.load_state_dict(lprnet['state_dict'])\u001b[0m\u001b[0;34m\u001b[0m\u001b[0;34m\u001b[0m\u001b[0;34m\u001b[0m\u001b[0m\n",
      "\u001b[0;32m~/anaconda3/envs/pth-tf/lib/python3.6/site-packages/torch/serialization.py\u001b[0m in \u001b[0;36mload\u001b[0;34m(f, map_location, pickle_module, **pickle_load_args)\u001b[0m\n\u001b[1;32m    582\u001b[0m         \u001b[0mpickle_load_args\u001b[0m\u001b[0;34m[\u001b[0m\u001b[0;34m'encoding'\u001b[0m\u001b[0;34m]\u001b[0m \u001b[0;34m=\u001b[0m \u001b[0;34m'utf-8'\u001b[0m\u001b[0;34m\u001b[0m\u001b[0;34m\u001b[0m\u001b[0m\n\u001b[1;32m    583\u001b[0m \u001b[0;34m\u001b[0m\u001b[0m\n\u001b[0;32m--> 584\u001b[0;31m     \u001b[0;32mwith\u001b[0m \u001b[0m_open_file_like\u001b[0m\u001b[0;34m(\u001b[0m\u001b[0mf\u001b[0m\u001b[0;34m,\u001b[0m \u001b[0;34m'rb'\u001b[0m\u001b[0;34m)\u001b[0m \u001b[0;32mas\u001b[0m \u001b[0mopened_file\u001b[0m\u001b[0;34m:\u001b[0m\u001b[0;34m\u001b[0m\u001b[0;34m\u001b[0m\u001b[0m\n\u001b[0m\u001b[1;32m    585\u001b[0m         \u001b[0;32mif\u001b[0m \u001b[0m_is_zipfile\u001b[0m\u001b[0;34m(\u001b[0m\u001b[0mopened_file\u001b[0m\u001b[0;34m)\u001b[0m\u001b[0;34m:\u001b[0m\u001b[0;34m\u001b[0m\u001b[0;34m\u001b[0m\u001b[0m\n\u001b[1;32m    586\u001b[0m             \u001b[0;32mwith\u001b[0m \u001b[0m_open_zipfile_reader\u001b[0m\u001b[0;34m(\u001b[0m\u001b[0mf\u001b[0m\u001b[0;34m)\u001b[0m \u001b[0;32mas\u001b[0m \u001b[0mopened_zipfile\u001b[0m\u001b[0;34m:\u001b[0m\u001b[0;34m\u001b[0m\u001b[0;34m\u001b[0m\u001b[0m\n",
      "\u001b[0;32m~/anaconda3/envs/pth-tf/lib/python3.6/site-packages/torch/serialization.py\u001b[0m in \u001b[0;36m_open_file_like\u001b[0;34m(name_or_buffer, mode)\u001b[0m\n\u001b[1;32m    232\u001b[0m \u001b[0;32mdef\u001b[0m \u001b[0m_open_file_like\u001b[0m\u001b[0;34m(\u001b[0m\u001b[0mname_or_buffer\u001b[0m\u001b[0;34m,\u001b[0m \u001b[0mmode\u001b[0m\u001b[0;34m)\u001b[0m\u001b[0;34m:\u001b[0m\u001b[0;34m\u001b[0m\u001b[0;34m\u001b[0m\u001b[0m\n\u001b[1;32m    233\u001b[0m     \u001b[0;32mif\u001b[0m \u001b[0m_is_path\u001b[0m\u001b[0;34m(\u001b[0m\u001b[0mname_or_buffer\u001b[0m\u001b[0;34m)\u001b[0m\u001b[0;34m:\u001b[0m\u001b[0;34m\u001b[0m\u001b[0;34m\u001b[0m\u001b[0m\n\u001b[0;32m--> 234\u001b[0;31m         \u001b[0;32mreturn\u001b[0m \u001b[0m_open_file\u001b[0m\u001b[0;34m(\u001b[0m\u001b[0mname_or_buffer\u001b[0m\u001b[0;34m,\u001b[0m \u001b[0mmode\u001b[0m\u001b[0;34m)\u001b[0m\u001b[0;34m\u001b[0m\u001b[0;34m\u001b[0m\u001b[0m\n\u001b[0m\u001b[1;32m    235\u001b[0m     \u001b[0;32melse\u001b[0m\u001b[0;34m:\u001b[0m\u001b[0;34m\u001b[0m\u001b[0;34m\u001b[0m\u001b[0m\n\u001b[1;32m    236\u001b[0m         \u001b[0;32mif\u001b[0m \u001b[0;34m'w'\u001b[0m \u001b[0;32min\u001b[0m \u001b[0mmode\u001b[0m\u001b[0;34m:\u001b[0m\u001b[0;34m\u001b[0m\u001b[0;34m\u001b[0m\u001b[0m\n",
      "\u001b[0;32m~/anaconda3/envs/pth-tf/lib/python3.6/site-packages/torch/serialization.py\u001b[0m in \u001b[0;36m__init__\u001b[0;34m(self, name, mode)\u001b[0m\n\u001b[1;32m    213\u001b[0m \u001b[0;32mclass\u001b[0m \u001b[0m_open_file\u001b[0m\u001b[0;34m(\u001b[0m\u001b[0m_opener\u001b[0m\u001b[0;34m)\u001b[0m\u001b[0;34m:\u001b[0m\u001b[0;34m\u001b[0m\u001b[0;34m\u001b[0m\u001b[0m\n\u001b[1;32m    214\u001b[0m     \u001b[0;32mdef\u001b[0m \u001b[0m__init__\u001b[0m\u001b[0;34m(\u001b[0m\u001b[0mself\u001b[0m\u001b[0;34m,\u001b[0m \u001b[0mname\u001b[0m\u001b[0;34m,\u001b[0m \u001b[0mmode\u001b[0m\u001b[0;34m)\u001b[0m\u001b[0;34m:\u001b[0m\u001b[0;34m\u001b[0m\u001b[0;34m\u001b[0m\u001b[0m\n\u001b[0;32m--> 215\u001b[0;31m         \u001b[0msuper\u001b[0m\u001b[0;34m(\u001b[0m\u001b[0m_open_file\u001b[0m\u001b[0;34m,\u001b[0m \u001b[0mself\u001b[0m\u001b[0;34m)\u001b[0m\u001b[0;34m.\u001b[0m\u001b[0m__init__\u001b[0m\u001b[0;34m(\u001b[0m\u001b[0mopen\u001b[0m\u001b[0;34m(\u001b[0m\u001b[0mname\u001b[0m\u001b[0;34m,\u001b[0m \u001b[0mmode\u001b[0m\u001b[0;34m)\u001b[0m\u001b[0;34m)\u001b[0m\u001b[0;34m\u001b[0m\u001b[0;34m\u001b[0m\u001b[0m\n\u001b[0m\u001b[1;32m    216\u001b[0m \u001b[0;34m\u001b[0m\u001b[0m\n\u001b[1;32m    217\u001b[0m     \u001b[0;32mdef\u001b[0m \u001b[0m__exit__\u001b[0m\u001b[0;34m(\u001b[0m\u001b[0mself\u001b[0m\u001b[0;34m,\u001b[0m \u001b[0;34m*\u001b[0m\u001b[0margs\u001b[0m\u001b[0;34m)\u001b[0m\u001b[0;34m:\u001b[0m\u001b[0;34m\u001b[0m\u001b[0;34m\u001b[0m\u001b[0m\n",
      "\u001b[0;31mFileNotFoundError\u001b[0m: [Errno 2] No such file or directory: './LPRNet_Acc_85.pth'"
     ]
    }
   ],
   "source": [
    "lprnet = torch.load(pthfile, map_location='cpu')\n",
    "#lprnet.load_state_dict(lprnet['state_dict'])"
   ]
  },
  {
   "cell_type": "code",
   "execution_count": 9,
   "metadata": {},
   "outputs": [],
   "source": [
    "dummy_input = torch.randn(1, 3, 24, 94)\n",
    "input_names = [ 'input' ]\n",
    "output_names = [ 'output' ]"
   ]
  },
  {
   "cell_type": "code",
   "execution_count": 10,
   "metadata": {},
   "outputs": [
    {
     "name": "stdout",
     "output_type": "stream",
     "text": [
      "graph(%input : Float(1, 3, 24, 94),\n",
      "      %backbone.0.weight : Float(64, 3, 3, 3),\n",
      "      %backbone.0.bias : Float(64),\n",
      "      %backbone.1.weight : Float(64),\n",
      "      %backbone.1.bias : Float(64),\n",
      "      %backbone.1.running_mean : Float(64),\n",
      "      %backbone.1.running_var : Float(64),\n",
      "      %backbone.4.block.0.weight : Float(32, 64, 1, 1),\n",
      "      %backbone.4.block.0.bias : Float(32),\n",
      "      %backbone.4.block.2.weight : Float(32, 32, 3, 1),\n",
      "      %backbone.4.block.2.bias : Float(32),\n",
      "      %backbone.4.block.4.weight : Float(32, 32, 1, 3),\n",
      "      %backbone.4.block.4.bias : Float(32),\n",
      "      %backbone.4.block.6.weight : Float(128, 32, 1, 1),\n",
      "      %backbone.4.block.6.bias : Float(128),\n",
      "      %backbone.5.weight : Float(128),\n",
      "      %backbone.5.bias : Float(128),\n",
      "      %backbone.5.running_mean : Float(128),\n",
      "      %backbone.5.running_var : Float(128),\n",
      "      %backbone.8.weight : Float(64, 128, 1, 1),\n",
      "      %backbone.8.bias : Float(64),\n",
      "      %backbone.9.block.0.weight : Float(64, 64, 1, 1),\n",
      "      %backbone.9.block.0.bias : Float(64),\n",
      "      %backbone.9.block.2.weight : Float(64, 64, 3, 1),\n",
      "      %backbone.9.block.2.bias : Float(64),\n",
      "      %backbone.9.block.4.weight : Float(64, 64, 1, 3),\n",
      "      %backbone.9.block.4.bias : Float(64),\n",
      "      %backbone.9.block.6.weight : Float(256, 64, 1, 1),\n",
      "      %backbone.9.block.6.bias : Float(256),\n",
      "      %backbone.10.weight : Float(256),\n",
      "      %backbone.10.bias : Float(256),\n",
      "      %backbone.10.running_mean : Float(256),\n",
      "      %backbone.10.running_var : Float(256),\n",
      "      %backbone.12.block.0.weight : Float(64, 256, 1, 1),\n",
      "      %backbone.12.block.0.bias : Float(64),\n",
      "      %backbone.12.block.2.weight : Float(64, 64, 3, 1),\n",
      "      %backbone.12.block.2.bias : Float(64),\n",
      "      %backbone.12.block.4.weight : Float(64, 64, 1, 3),\n",
      "      %backbone.12.block.4.bias : Float(64),\n",
      "      %backbone.12.block.6.weight : Float(256, 64, 1, 1),\n",
      "      %backbone.12.block.6.bias : Float(256),\n",
      "      %backbone.13.weight : Float(256),\n",
      "      %backbone.13.bias : Float(256),\n",
      "      %backbone.13.running_mean : Float(256),\n",
      "      %backbone.13.running_var : Float(256),\n",
      "      %backbone.16.weight : Float(64, 256, 1, 1),\n",
      "      %backbone.16.bias : Float(64),\n",
      "      %backbone.18.weight : Float(256, 64, 1, 4),\n",
      "      %backbone.18.bias : Float(256),\n",
      "      %backbone.19.weight : Float(256),\n",
      "      %backbone.19.bias : Float(256),\n",
      "      %backbone.19.running_mean : Float(256),\n",
      "      %backbone.19.running_var : Float(256),\n",
      "      %backbone.22.weight : Float(66, 256, 13, 1),\n",
      "      %backbone.22.bias : Float(66),\n",
      "      %backbone.23.weight : Float(66),\n",
      "      %backbone.23.bias : Float(66),\n",
      "      %backbone.23.running_mean : Float(66),\n",
      "      %backbone.23.running_var : Float(66),\n",
      "      %container.0.weight : Float(66, 514, 1, 1),\n",
      "      %container.0.bias : Float(66),\n",
      "      %137 : Float(),\n",
      "      %138 : Float(),\n",
      "      %139 : Float(),\n",
      "      %140 : Float()):\n",
      "  %67 : Float(1, 64, 22, 92) = onnx::Conv[dilations=[1, 1], group=1, kernel_shape=[3, 3], pads=[0, 0, 0, 0], strides=[1, 1]](%input, %backbone.0.weight, %backbone.0.bias) # /home/luxian/anaconda3/envs/pth-tf/lib/python3.6/site-packages/torch/nn/modules/conv.py:350:0\n",
      "  %68 : Float(1, 64, 22, 92) = onnx::BatchNormalization[epsilon=1.0000000000000001e-05, momentum=0.90000000000000002](%67, %backbone.1.weight, %backbone.1.bias, %backbone.1.running_mean, %backbone.1.running_var) # /home/luxian/anaconda3/envs/pth-tf/lib/python3.6/site-packages/torch/nn/functional.py:1923:0\n",
      "  %69 : Float(1, 64, 22, 92) = onnx::Relu(%68) # /home/luxian/anaconda3/envs/pth-tf/lib/python3.6/site-packages/torch/nn/functional.py:1063:0\n",
      "  %70 : Float(1, 64, 20, 90) = onnx::MaxPool[kernel_shape=[3, 3], pads=[0, 0, 0, 0], strides=[1, 1]](%69) # /home/luxian/anaconda3/envs/pth-tf/lib/python3.6/site-packages/torch/nn/functional.py:539:0\n",
      "  %71 : Float(1, 32, 20, 90) = onnx::Conv[dilations=[1, 1], group=1, kernel_shape=[1, 1], pads=[0, 0, 0, 0], strides=[1, 1]](%70, %backbone.4.block.0.weight, %backbone.4.block.0.bias) # /home/luxian/anaconda3/envs/pth-tf/lib/python3.6/site-packages/torch/nn/modules/conv.py:350:0\n",
      "  %72 : Float(1, 32, 20, 90) = onnx::Relu(%71) # /home/luxian/anaconda3/envs/pth-tf/lib/python3.6/site-packages/torch/nn/functional.py:1063:0\n",
      "  %73 : Float(1, 32, 20, 90) = onnx::Conv[dilations=[1, 1], group=1, kernel_shape=[3, 1], pads=[1, 0, 1, 0], strides=[1, 1]](%72, %backbone.4.block.2.weight, %backbone.4.block.2.bias) # /home/luxian/anaconda3/envs/pth-tf/lib/python3.6/site-packages/torch/nn/modules/conv.py:350:0\n",
      "  %74 : Float(1, 32, 20, 90) = onnx::Relu(%73) # /home/luxian/anaconda3/envs/pth-tf/lib/python3.6/site-packages/torch/nn/functional.py:1063:0\n",
      "  %75 : Float(1, 32, 20, 90) = onnx::Conv[dilations=[1, 1], group=1, kernel_shape=[1, 3], pads=[0, 1, 0, 1], strides=[1, 1]](%74, %backbone.4.block.4.weight, %backbone.4.block.4.bias) # /home/luxian/anaconda3/envs/pth-tf/lib/python3.6/site-packages/torch/nn/modules/conv.py:350:0\n",
      "  %76 : Float(1, 32, 20, 90) = onnx::Relu(%75) # /home/luxian/anaconda3/envs/pth-tf/lib/python3.6/site-packages/torch/nn/functional.py:1063:0\n",
      "  %77 : Float(1, 128, 20, 90) = onnx::Conv[dilations=[1, 1], group=1, kernel_shape=[1, 1], pads=[0, 0, 0, 0], strides=[1, 1]](%76, %backbone.4.block.6.weight, %backbone.4.block.6.bias) # /home/luxian/anaconda3/envs/pth-tf/lib/python3.6/site-packages/torch/nn/modules/conv.py:350:0\n",
      "  %78 : Float(1, 128, 20, 90) = onnx::BatchNormalization[epsilon=1.0000000000000001e-05, momentum=0.90000000000000002](%77, %backbone.5.weight, %backbone.5.bias, %backbone.5.running_mean, %backbone.5.running_var) # /home/luxian/anaconda3/envs/pth-tf/lib/python3.6/site-packages/torch/nn/functional.py:1923:0\n",
      "  %79 : Float(1, 128, 20, 90) = onnx::Relu(%78) # /home/luxian/anaconda3/envs/pth-tf/lib/python3.6/site-packages/torch/nn/functional.py:1063:0\n",
      "  %80 : Float(1, 128, 18, 44) = onnx::MaxPool[kernel_shape=[3, 3], pads=[0, 0, 0, 0], strides=[1, 2]](%79) # /home/luxian/anaconda3/envs/pth-tf/lib/python3.6/site-packages/torch/nn/functional.py:539:0\n",
      "  %81 : Float(1, 64, 18, 44) = onnx::Conv[dilations=[1, 1], group=1, kernel_shape=[1, 1], pads=[0, 0, 0, 0], strides=[1, 1]](%80, %backbone.8.weight, %backbone.8.bias) # /home/luxian/anaconda3/envs/pth-tf/lib/python3.6/site-packages/torch/nn/modules/conv.py:350:0\n",
      "  %82 : Float(1, 64, 18, 44) = onnx::Conv[dilations=[1, 1], group=1, kernel_shape=[1, 1], pads=[0, 0, 0, 0], strides=[1, 1]](%81, %backbone.9.block.0.weight, %backbone.9.block.0.bias) # /home/luxian/anaconda3/envs/pth-tf/lib/python3.6/site-packages/torch/nn/modules/conv.py:350:0\n",
      "  %83 : Float(1, 64, 18, 44) = onnx::Relu(%82) # /home/luxian/anaconda3/envs/pth-tf/lib/python3.6/site-packages/torch/nn/functional.py:1063:0\n",
      "  %84 : Float(1, 64, 18, 44) = onnx::Conv[dilations=[1, 1], group=1, kernel_shape=[3, 1], pads=[1, 0, 1, 0], strides=[1, 1]](%83, %backbone.9.block.2.weight, %backbone.9.block.2.bias) # /home/luxian/anaconda3/envs/pth-tf/lib/python3.6/site-packages/torch/nn/modules/conv.py:350:0\n",
      "  %85 : Float(1, 64, 18, 44) = onnx::Relu(%84) # /home/luxian/anaconda3/envs/pth-tf/lib/python3.6/site-packages/torch/nn/functional.py:1063:0\n",
      "  %86 : Float(1, 64, 18, 44) = onnx::Conv[dilations=[1, 1], group=1, kernel_shape=[1, 3], pads=[0, 1, 0, 1], strides=[1, 1]](%85, %backbone.9.block.4.weight, %backbone.9.block.4.bias) # /home/luxian/anaconda3/envs/pth-tf/lib/python3.6/site-packages/torch/nn/modules/conv.py:350:0\n",
      "  %87 : Float(1, 64, 18, 44) = onnx::Relu(%86) # /home/luxian/anaconda3/envs/pth-tf/lib/python3.6/site-packages/torch/nn/functional.py:1063:0\n",
      "  %88 : Float(1, 256, 18, 44) = onnx::Conv[dilations=[1, 1], group=1, kernel_shape=[1, 1], pads=[0, 0, 0, 0], strides=[1, 1]](%87, %backbone.9.block.6.weight, %backbone.9.block.6.bias) # /home/luxian/anaconda3/envs/pth-tf/lib/python3.6/site-packages/torch/nn/modules/conv.py:350:0\n",
      "  %89 : Float(1, 256, 18, 44) = onnx::BatchNormalization[epsilon=1.0000000000000001e-05, momentum=0.90000000000000002](%88, %backbone.10.weight, %backbone.10.bias, %backbone.10.running_mean, %backbone.10.running_var) # /home/luxian/anaconda3/envs/pth-tf/lib/python3.6/site-packages/torch/nn/functional.py:1923:0\n",
      "  %90 : Float(1, 256, 18, 44) = onnx::Relu(%89) # /home/luxian/anaconda3/envs/pth-tf/lib/python3.6/site-packages/torch/nn/functional.py:1063:0\n",
      "  %91 : Float(1, 64, 18, 44) = onnx::Conv[dilations=[1, 1], group=1, kernel_shape=[1, 1], pads=[0, 0, 0, 0], strides=[1, 1]](%90, %backbone.12.block.0.weight, %backbone.12.block.0.bias) # /home/luxian/anaconda3/envs/pth-tf/lib/python3.6/site-packages/torch/nn/modules/conv.py:350:0\n",
      "  %92 : Float(1, 64, 18, 44) = onnx::Relu(%91) # /home/luxian/anaconda3/envs/pth-tf/lib/python3.6/site-packages/torch/nn/functional.py:1063:0\n",
      "  %93 : Float(1, 64, 18, 44) = onnx::Conv[dilations=[1, 1], group=1, kernel_shape=[3, 1], pads=[1, 0, 1, 0], strides=[1, 1]](%92, %backbone.12.block.2.weight, %backbone.12.block.2.bias) # /home/luxian/anaconda3/envs/pth-tf/lib/python3.6/site-packages/torch/nn/modules/conv.py:350:0\n",
      "  %94 : Float(1, 64, 18, 44) = onnx::Relu(%93) # /home/luxian/anaconda3/envs/pth-tf/lib/python3.6/site-packages/torch/nn/functional.py:1063:0\n",
      "  %95 : Float(1, 64, 18, 44) = onnx::Conv[dilations=[1, 1], group=1, kernel_shape=[1, 3], pads=[0, 1, 0, 1], strides=[1, 1]](%94, %backbone.12.block.4.weight, %backbone.12.block.4.bias) # /home/luxian/anaconda3/envs/pth-tf/lib/python3.6/site-packages/torch/nn/modules/conv.py:350:0\n",
      "  %96 : Float(1, 64, 18, 44) = onnx::Relu(%95) # /home/luxian/anaconda3/envs/pth-tf/lib/python3.6/site-packages/torch/nn/functional.py:1063:0\n",
      "  %97 : Float(1, 256, 18, 44) = onnx::Conv[dilations=[1, 1], group=1, kernel_shape=[1, 1], pads=[0, 0, 0, 0], strides=[1, 1]](%96, %backbone.12.block.6.weight, %backbone.12.block.6.bias) # /home/luxian/anaconda3/envs/pth-tf/lib/python3.6/site-packages/torch/nn/modules/conv.py:350:0\n",
      "  %98 : Float(1, 256, 18, 44) = onnx::BatchNormalization[epsilon=1.0000000000000001e-05, momentum=0.90000000000000002](%97, %backbone.13.weight, %backbone.13.bias, %backbone.13.running_mean, %backbone.13.running_var) # /home/luxian/anaconda3/envs/pth-tf/lib/python3.6/site-packages/torch/nn/functional.py:1923:0\n",
      "  %99 : Float(1, 256, 18, 44) = onnx::Relu(%98) # /home/luxian/anaconda3/envs/pth-tf/lib/python3.6/site-packages/torch/nn/functional.py:1063:0\n",
      "  %100 : Float(1, 256, 16, 21) = onnx::MaxPool[kernel_shape=[3, 3], pads=[0, 0, 0, 0], strides=[1, 2]](%99) # /home/luxian/anaconda3/envs/pth-tf/lib/python3.6/site-packages/torch/nn/functional.py:539:0\n",
      "  %101 : Float(1, 64, 16, 21) = onnx::Conv[dilations=[1, 1], group=1, kernel_shape=[1, 1], pads=[0, 0, 0, 0], strides=[1, 1]](%100, %backbone.16.weight, %backbone.16.bias) # /home/luxian/anaconda3/envs/pth-tf/lib/python3.6/site-packages/torch/nn/functional.py:936:0\n",
      "  %102 : Float(1, 256, 16, 18) = onnx::Conv[dilations=[1, 1], group=1, kernel_shape=[1, 4], pads=[0, 0, 0, 0], strides=[1, 1]](%101, %backbone.18.weight, %backbone.18.bias) # /home/luxian/anaconda3/envs/pth-tf/lib/python3.6/site-packages/torch/nn/modules/conv.py:350:0\n",
      "  %103 : Float(1, 256, 16, 18) = onnx::BatchNormalization[epsilon=1.0000000000000001e-05, momentum=0.90000000000000002](%102, %backbone.19.weight, %backbone.19.bias, %backbone.19.running_mean, %backbone.19.running_var) # /home/luxian/anaconda3/envs/pth-tf/lib/python3.6/site-packages/torch/nn/functional.py:1923:0\n",
      "  %104 : Float(1, 256, 16, 18) = onnx::Relu(%103) # /home/luxian/anaconda3/envs/pth-tf/lib/python3.6/site-packages/torch/nn/functional.py:936:0\n",
      "  %105 : Float(1, 66, 4, 18) = onnx::Conv[dilations=[1, 1], group=1, kernel_shape=[13, 1], pads=[0, 0, 0, 0], strides=[1, 1]](%104, %backbone.22.weight, %backbone.22.bias) # /home/luxian/anaconda3/envs/pth-tf/lib/python3.6/site-packages/torch/nn/modules/conv.py:350:0\n",
      "  %106 : Float(1, 66, 4, 18) = onnx::BatchNormalization[epsilon=1.0000000000000001e-05, momentum=0.90000000000000002](%105, %backbone.23.weight, %backbone.23.bias, %backbone.23.running_mean, %backbone.23.running_var) # /home/luxian/anaconda3/envs/pth-tf/lib/python3.6/site-packages/torch/nn/functional.py:1923:0\n",
      "  %107 : Float(1, 66, 4, 18) = onnx::Relu(%106) # /home/luxian/anaconda3/envs/pth-tf/lib/python3.6/site-packages/torch/nn/functional.py:1063:0\n",
      "  %108 : Tensor = onnx::Pad[mode=\"constant\", pads=[0, 0, 0, 0, 0, 0, 0, 0], value=0.](%69)\n",
      "  %109 : Float(1, 64, 4, 18) = onnx::AveragePool[kernel_shape=[5, 5], pads=[0, 0, 0, 0], strides=[5, 5]](%108) # /home/luxian/anaconda3/envs/pth-tf/lib/python3.6/site-packages/torch/nn/modules/pooling.py:554:0\n",
      "  %112 : Float(1, 64, 4, 18) = onnx::Pow(%109, %137) # /home/luxian/tf/projects/LPRNet/LPRNet_Pytorch-master/pth_to_tflite/model/LPRNet_i.py:84:0\n",
      "  %113 : Float() = onnx::ReduceMean[keepdims=0](%112) # /home/luxian/tf/projects/LPRNet/LPRNet_Pytorch-master/pth_to_tflite/model/LPRNet_i.py:85:0\n",
      "  %114 : Float(1, 64, 4, 18) = onnx::Div(%109, %113) # /home/luxian/tf/projects/LPRNet/LPRNet_Pytorch-master/pth_to_tflite/model/LPRNet_i.py:86:0\n",
      "  %115 : Tensor = onnx::Pad[mode=\"constant\", pads=[0, 0, 0, 0, 0, 0, 0, 0], value=0.](%79)\n",
      "  %116 : Float(1, 128, 4, 18) = onnx::AveragePool[kernel_shape=[5, 5], pads=[0, 0, 0, 0], strides=[5, 5]](%115) # /home/luxian/anaconda3/envs/pth-tf/lib/python3.6/site-packages/torch/nn/modules/pooling.py:554:0\n",
      "  %119 : Float(1, 128, 4, 18) = onnx::Pow(%116, %138) # /home/luxian/tf/projects/LPRNet/LPRNet_Pytorch-master/pth_to_tflite/model/LPRNet_i.py:84:0\n",
      "  %120 : Float() = onnx::ReduceMean[keepdims=0](%119) # /home/luxian/tf/projects/LPRNet/LPRNet_Pytorch-master/pth_to_tflite/model/LPRNet_i.py:85:0\n",
      "  %121 : Float(1, 128, 4, 18) = onnx::Div(%116, %120) # /home/luxian/tf/projects/LPRNet/LPRNet_Pytorch-master/pth_to_tflite/model/LPRNet_i.py:86:0\n",
      "  %122 : Tensor = onnx::Pad[mode=\"constant\", pads=[0, 0, 0, 0, 0, 0, 0, 0], value=0.](%99)\n",
      "  %123 : Float(1, 256, 4, 18) = onnx::AveragePool[kernel_shape=[4, 10], pads=[0, 0, 0, 0], strides=[4, 2]](%122) # /home/luxian/anaconda3/envs/pth-tf/lib/python3.6/site-packages/torch/nn/modules/pooling.py:554:0\n",
      "  %126 : Float(1, 256, 4, 18) = onnx::Pow(%123, %139) # /home/luxian/tf/projects/LPRNet/LPRNet_Pytorch-master/pth_to_tflite/model/LPRNet_i.py:84:0\n",
      "  %127 : Float() = onnx::ReduceMean[keepdims=0](%126) # /home/luxian/tf/projects/LPRNet/LPRNet_Pytorch-master/pth_to_tflite/model/LPRNet_i.py:85:0\n",
      "  %128 : Float(1, 256, 4, 18) = onnx::Div(%123, %127) # /home/luxian/tf/projects/LPRNet/LPRNet_Pytorch-master/pth_to_tflite/model/LPRNet_i.py:86:0\n",
      "  %131 : Float(1, 66, 4, 18) = onnx::Pow(%107, %140) # /home/luxian/tf/projects/LPRNet/LPRNet_Pytorch-master/pth_to_tflite/model/LPRNet_i.py:84:0\n",
      "  %132 : Float() = onnx::ReduceMean[keepdims=0](%131) # /home/luxian/tf/projects/LPRNet/LPRNet_Pytorch-master/pth_to_tflite/model/LPRNet_i.py:85:0\n",
      "  %133 : Float(1, 66, 4, 18) = onnx::Div(%107, %132) # /home/luxian/tf/projects/LPRNet/LPRNet_Pytorch-master/pth_to_tflite/model/LPRNet_i.py:86:0\n",
      "  %134 : Float(1, 514, 4, 18) = onnx::Concat[axis=1](%114, %121, %128, %133) # /home/luxian/tf/projects/LPRNet/LPRNet_Pytorch-master/pth_to_tflite/model/LPRNet_i.py:89:0\n",
      "  %135 : Float(1, 66, 4, 18) = onnx::Conv[dilations=[1, 1], group=1, kernel_shape=[1, 1], pads=[0, 0, 0, 0], strides=[1, 1]](%134, %container.0.weight, %container.0.bias) # /home/luxian/anaconda3/envs/pth-tf/lib/python3.6/site-packages/torch/nn/modules/conv.py:350:0\n",
      "  %output : Float(1, 66, 18) = onnx::ReduceMean[axes=[2], keepdims=0](%135) # /home/luxian/tf/projects/LPRNet/LPRNet_Pytorch-master/pth_to_tflite/model/LPRNet_i.py:91:0\n",
      "  return (%output)\n",
      "\n"
     ]
    }
   ],
   "source": [
    "torch.onnx.export(lprnet, dummy_input, \"./lprnet_acc85.onnx\", verbose=True, input_names=input_names, output_names=output_names)"
   ]
  },
  {
   "cell_type": "code",
   "execution_count": null,
   "metadata": {},
   "outputs": [],
   "source": []
  }
 ],
 "metadata": {
  "kernelspec": {
   "display_name": "pth-tf",
   "language": "python",
   "name": "pth-tf"
  },
  "language_info": {
   "codemirror_mode": {
    "name": "ipython",
    "version": 3
   },
   "file_extension": ".py",
   "mimetype": "text/x-python",
   "name": "python",
   "nbconvert_exporter": "python",
   "pygments_lexer": "ipython3",
   "version": "3.6.13"
  }
 },
 "nbformat": 4,
 "nbformat_minor": 4
}
