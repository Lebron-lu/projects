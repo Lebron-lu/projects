{
 "cells": [
  {
   "cell_type": "code",
   "execution_count": 1,
   "metadata": {},
   "outputs": [],
   "source": [
    "import io\n",
    "import torch\n",
    "import torch.onnx\n",
    "from model.LPRNet import *\n",
    "device = torch.device(\"cuda:0\" if torch.cuda.is_available() else \"cpu\")"
   ]
  },
  {
   "cell_type": "code",
   "execution_count": 2,
   "metadata": {},
   "outputs": [],
   "source": [
    "lprnet = build_lprnet(lpr_max_len=8, phase=False, class_num=66, dropout_rate=0.5)"
   ]
  },
  {
   "cell_type": "code",
   "execution_count": 7,
   "metadata": {},
   "outputs": [],
   "source": [
    "pthfile ='/home/luxian/tf/models/LPRNet_Pytorch-master/weights/LPRNet_Acc_0.0.pth'"
   ]
  },
  {
   "cell_type": "code",
   "execution_count": 8,
   "metadata": {},
   "outputs": [],
   "source": [
    "lprnet = torch.load(pthfile, map_location='cpu')\n",
    "#lprnet.load_state_dict(lprnet['state_dict'])"
   ]
  },
  {
   "cell_type": "code",
   "execution_count": 9,
   "metadata": {},
   "outputs": [],
   "source": [
    "dummy_input = torch.randn(1, 3, 24, 94)\n",
    "input_names = [ 'input' ]\n",
    "output_names = [ 'output' ]"
   ]
  },
  {
   "cell_type": "code",
   "execution_count": 10,
   "metadata": {},
   "outputs": [
    {
     "name": "stdout",
     "output_type": "stream",
     "text": [
      "graph(%input : Float(1, 3, 24, 94),\n",
      "      %backbone.0.weight : Float(64, 3, 3, 3),\n",
      "      %backbone.0.bias : Float(64),\n",
      "      %backbone.3.block.0.weight : Float(32, 64, 1, 1),\n",
      "      %backbone.3.block.0.bias : Float(32),\n",
      "      %backbone.3.block.2.weight : Float(32, 32, 3, 1),\n",
      "      %backbone.3.block.2.bias : Float(32),\n",
      "      %backbone.3.block.4.weight : Float(32, 32, 1, 3),\n",
      "      %backbone.3.block.4.bias : Float(32),\n",
      "      %backbone.3.block.6.weight : Float(128, 32, 1, 1),\n",
      "      %backbone.3.block.6.bias : Float(128),\n",
      "      %backbone.6.block.0.weight : Float(64, 64, 1, 1),\n",
      "      %backbone.6.block.0.bias : Float(64),\n",
      "      %backbone.6.block.2.weight : Float(64, 64, 3, 1),\n",
      "      %backbone.6.block.2.bias : Float(64),\n",
      "      %backbone.6.block.4.weight : Float(64, 64, 1, 3),\n",
      "      %backbone.6.block.4.bias : Float(64),\n",
      "      %backbone.6.block.6.weight : Float(256, 64, 1, 1),\n",
      "      %backbone.6.block.6.bias : Float(256),\n",
      "      %backbone.8.block.0.weight : Float(64, 256, 1, 1),\n",
      "      %backbone.8.block.0.bias : Float(64),\n",
      "      %backbone.8.block.2.weight : Float(64, 64, 3, 1),\n",
      "      %backbone.8.block.2.bias : Float(64),\n",
      "      %backbone.8.block.4.weight : Float(64, 64, 1, 3),\n",
      "      %backbone.8.block.4.bias : Float(64),\n",
      "      %backbone.8.block.6.weight : Float(256, 64, 1, 1),\n",
      "      %backbone.8.block.6.bias : Float(256),\n",
      "      %backbone.12.weight : Float(256, 64, 1, 4),\n",
      "      %backbone.12.bias : Float(256),\n",
      "      %backbone.15.weight : Float(68, 256, 13, 1),\n",
      "      %backbone.15.bias : Float(68),\n",
      "      %container.0.weight : Float(68, 516, 1, 1),\n",
      "      %container.0.bias : Float(68)):\n",
      "  %33 : Float(1, 64, 22, 92) = onnx::Conv[dilations=[1, 1], group=1, kernel_shape=[3, 3], pads=[0, 0, 0, 0], strides=[1, 1]](%input, %backbone.0.weight, %backbone.0.bias) # /home/luxian/anaconda3/envs/lpr/lib/python3.6/site-packages/torch/nn/modules/conv.py:342:0\n",
      "  %34 : Float(1, 64, 22, 92) = onnx::Relu(%33) # /home/luxian/anaconda3/envs/lpr/lib/python3.6/site-packages/torch/nn/functional.py:914:0\n",
      "  %35 : Float(1, 64, 20, 90) = onnx::MaxPool[kernel_shape=[1, 3, 3], pads=[0, 0, 0, 0, 0, 0], strides=[1, 1, 1]](%34) # /home/luxian/anaconda3/envs/lpr/lib/python3.6/site-packages/torch/nn/functional.py:520:0\n",
      "  %36 : Float(1, 32, 20, 90) = onnx::Conv[dilations=[1, 1], group=1, kernel_shape=[1, 1], pads=[0, 0, 0, 0], strides=[1, 1]](%35, %backbone.3.block.0.weight, %backbone.3.block.0.bias) # /home/luxian/anaconda3/envs/lpr/lib/python3.6/site-packages/torch/nn/modules/conv.py:342:0\n",
      "  %37 : Float(1, 32, 20, 90) = onnx::Relu(%36) # /home/luxian/anaconda3/envs/lpr/lib/python3.6/site-packages/torch/nn/functional.py:914:0\n",
      "  %38 : Float(1, 32, 20, 90) = onnx::Conv[dilations=[1, 1], group=1, kernel_shape=[3, 1], pads=[1, 0, 1, 0], strides=[1, 1]](%37, %backbone.3.block.2.weight, %backbone.3.block.2.bias) # /home/luxian/anaconda3/envs/lpr/lib/python3.6/site-packages/torch/nn/modules/conv.py:342:0\n",
      "  %39 : Float(1, 32, 20, 90) = onnx::Relu(%38) # /home/luxian/anaconda3/envs/lpr/lib/python3.6/site-packages/torch/nn/functional.py:914:0\n",
      "  %40 : Float(1, 32, 20, 90) = onnx::Conv[dilations=[1, 1], group=1, kernel_shape=[1, 3], pads=[0, 1, 0, 1], strides=[1, 1]](%39, %backbone.3.block.4.weight, %backbone.3.block.4.bias) # /home/luxian/anaconda3/envs/lpr/lib/python3.6/site-packages/torch/nn/modules/conv.py:342:0\n",
      "  %41 : Float(1, 32, 20, 90) = onnx::Relu(%40) # /home/luxian/anaconda3/envs/lpr/lib/python3.6/site-packages/torch/nn/functional.py:914:0\n",
      "  %42 : Float(1, 128, 20, 90) = onnx::Conv[dilations=[1, 1], group=1, kernel_shape=[1, 1], pads=[0, 0, 0, 0], strides=[1, 1]](%41, %backbone.3.block.6.weight, %backbone.3.block.6.bias) # /home/luxian/anaconda3/envs/lpr/lib/python3.6/site-packages/torch/nn/modules/conv.py:342:0\n",
      "  %43 : Float(1, 128, 20, 90) = onnx::Relu(%42) # /home/luxian/anaconda3/envs/lpr/lib/python3.6/site-packages/torch/nn/functional.py:914:0\n",
      "  %44 : Float(1, 64, 18, 44) = onnx::MaxPool[kernel_shape=[1, 3, 3], pads=[0, 0, 0, 0, 0, 0], strides=[2, 1, 2]](%43) # /home/luxian/anaconda3/envs/lpr/lib/python3.6/site-packages/torch/nn/functional.py:520:0\n",
      "  %45 : Float(1, 64, 18, 44) = onnx::Conv[dilations=[1, 1], group=1, kernel_shape=[1, 1], pads=[0, 0, 0, 0], strides=[1, 1]](%44, %backbone.6.block.0.weight, %backbone.6.block.0.bias) # /home/luxian/anaconda3/envs/lpr/lib/python3.6/site-packages/torch/nn/modules/conv.py:342:0\n",
      "  %46 : Float(1, 64, 18, 44) = onnx::Relu(%45) # /home/luxian/anaconda3/envs/lpr/lib/python3.6/site-packages/torch/nn/functional.py:914:0\n",
      "  %47 : Float(1, 64, 18, 44) = onnx::Conv[dilations=[1, 1], group=1, kernel_shape=[3, 1], pads=[1, 0, 1, 0], strides=[1, 1]](%46, %backbone.6.block.2.weight, %backbone.6.block.2.bias) # /home/luxian/anaconda3/envs/lpr/lib/python3.6/site-packages/torch/nn/modules/conv.py:342:0\n",
      "  %48 : Float(1, 64, 18, 44) = onnx::Relu(%47) # /home/luxian/anaconda3/envs/lpr/lib/python3.6/site-packages/torch/nn/functional.py:914:0\n",
      "  %49 : Float(1, 64, 18, 44) = onnx::Conv[dilations=[1, 1], group=1, kernel_shape=[1, 3], pads=[0, 1, 0, 1], strides=[1, 1]](%48, %backbone.6.block.4.weight, %backbone.6.block.4.bias) # /home/luxian/anaconda3/envs/lpr/lib/python3.6/site-packages/torch/nn/modules/conv.py:342:0\n",
      "  %50 : Float(1, 64, 18, 44) = onnx::Relu(%49) # /home/luxian/anaconda3/envs/lpr/lib/python3.6/site-packages/torch/nn/functional.py:914:0\n",
      "  %51 : Float(1, 256, 18, 44) = onnx::Conv[dilations=[1, 1], group=1, kernel_shape=[1, 1], pads=[0, 0, 0, 0], strides=[1, 1]](%50, %backbone.6.block.6.weight, %backbone.6.block.6.bias) # /home/luxian/anaconda3/envs/lpr/lib/python3.6/site-packages/torch/nn/modules/conv.py:342:0\n",
      "  %52 : Float(1, 256, 18, 44) = onnx::Relu(%51) # /home/luxian/anaconda3/envs/lpr/lib/python3.6/site-packages/torch/nn/functional.py:914:0\n",
      "  %53 : Float(1, 64, 18, 44) = onnx::Conv[dilations=[1, 1], group=1, kernel_shape=[1, 1], pads=[0, 0, 0, 0], strides=[1, 1]](%52, %backbone.8.block.0.weight, %backbone.8.block.0.bias) # /home/luxian/anaconda3/envs/lpr/lib/python3.6/site-packages/torch/nn/modules/conv.py:342:0\n",
      "  %54 : Float(1, 64, 18, 44) = onnx::Relu(%53) # /home/luxian/anaconda3/envs/lpr/lib/python3.6/site-packages/torch/nn/functional.py:914:0\n",
      "  %55 : Float(1, 64, 18, 44) = onnx::Conv[dilations=[1, 1], group=1, kernel_shape=[3, 1], pads=[1, 0, 1, 0], strides=[1, 1]](%54, %backbone.8.block.2.weight, %backbone.8.block.2.bias) # /home/luxian/anaconda3/envs/lpr/lib/python3.6/site-packages/torch/nn/modules/conv.py:342:0\n",
      "  %56 : Float(1, 64, 18, 44) = onnx::Relu(%55) # /home/luxian/anaconda3/envs/lpr/lib/python3.6/site-packages/torch/nn/functional.py:914:0\n",
      "  %57 : Float(1, 64, 18, 44) = onnx::Conv[dilations=[1, 1], group=1, kernel_shape=[1, 3], pads=[0, 1, 0, 1], strides=[1, 1]](%56, %backbone.8.block.4.weight, %backbone.8.block.4.bias) # /home/luxian/anaconda3/envs/lpr/lib/python3.6/site-packages/torch/nn/modules/conv.py:342:0\n",
      "  %58 : Float(1, 64, 18, 44) = onnx::Relu(%57) # /home/luxian/anaconda3/envs/lpr/lib/python3.6/site-packages/torch/nn/functional.py:914:0\n",
      "  %59 : Float(1, 256, 18, 44) = onnx::Conv[dilations=[1, 1], group=1, kernel_shape=[1, 1], pads=[0, 0, 0, 0], strides=[1, 1]](%58, %backbone.8.block.6.weight, %backbone.8.block.6.bias) # /home/luxian/anaconda3/envs/lpr/lib/python3.6/site-packages/torch/nn/modules/conv.py:342:0\n",
      "  %60 : Float(1, 256, 18, 44) = onnx::Relu(%59) # /home/luxian/anaconda3/envs/lpr/lib/python3.6/site-packages/torch/nn/functional.py:914:0\n",
      "  %61 : Float(1, 64, 16, 21) = onnx::MaxPool[kernel_shape=[1, 3, 3], pads=[0, 0, 0, 0, 0, 0], strides=[4, 1, 2]](%60) # /home/luxian/anaconda3/envs/lpr/lib/python3.6/site-packages/torch/nn/functional.py:807:0\n",
      "  %62 : Float(1, 256, 16, 18) = onnx::Conv[dilations=[1, 1], group=1, kernel_shape=[1, 4], pads=[0, 0, 0, 0], strides=[1, 1]](%61, %backbone.12.weight, %backbone.12.bias) # /home/luxian/anaconda3/envs/lpr/lib/python3.6/site-packages/torch/nn/modules/conv.py:342:0\n",
      "  %63 : Float(1, 256, 16, 18) = onnx::Relu(%62) # /home/luxian/anaconda3/envs/lpr/lib/python3.6/site-packages/torch/nn/functional.py:807:0\n",
      "  %64 : Float(1, 68, 4, 18) = onnx::Conv[dilations=[1, 1], group=1, kernel_shape=[13, 1], pads=[0, 0, 0, 0], strides=[1, 1]](%63, %backbone.15.weight, %backbone.15.bias) # /home/luxian/anaconda3/envs/lpr/lib/python3.6/site-packages/torch/nn/modules/conv.py:342:0\n",
      "  %65 : Float(1, 68, 4, 18) = onnx::Relu(%64) # /home/luxian/anaconda3/envs/lpr/lib/python3.6/site-packages/torch/nn/functional.py:914:0\n",
      "  %66 : Tensor = onnx::Pad[mode=\"constant\", pads=[0, 0, 0, 0, 0, 0, 0, 0], value=0](%34)\n",
      "  %67 : Float(1, 64, 4, 18) = onnx::AveragePool[kernel_shape=[5, 5], pads=[0, 0, 0, 0], strides=[5, 5]](%66) # /home/luxian/anaconda3/envs/lpr/lib/python3.6/site-packages/torch/nn/modules/pooling.py:554:0\n",
      "  %68 : Float() = onnx::Constant[value={2}]()\n",
      "  %69 : Float(1, 64, 4, 18) = onnx::Pow(%67, %68) # /home/luxian/tf/models/LPRNet_Pytorch-master/model/LPRNet_i.py:73:0\n",
      "  %70 : Float() = onnx::ReduceMean[keepdims=0](%69) # /home/luxian/tf/models/LPRNet_Pytorch-master/model/LPRNet_i.py:74:0\n",
      "  %71 : Float(1, 64, 4, 18) = onnx::Div(%67, %70) # /home/luxian/tf/models/LPRNet_Pytorch-master/model/LPRNet_i.py:75:0\n",
      "  %72 : Tensor = onnx::Pad[mode=\"constant\", pads=[0, 0, 0, 0, 0, 0, 0, 0], value=0](%43)\n",
      "  %73 : Float(1, 128, 4, 18) = onnx::AveragePool[kernel_shape=[5, 5], pads=[0, 0, 0, 0], strides=[5, 5]](%72) # /home/luxian/anaconda3/envs/lpr/lib/python3.6/site-packages/torch/nn/modules/pooling.py:554:0\n",
      "  %74 : Float() = onnx::Constant[value={2}]()\n",
      "  %75 : Float(1, 128, 4, 18) = onnx::Pow(%73, %74) # /home/luxian/tf/models/LPRNet_Pytorch-master/model/LPRNet_i.py:73:0\n",
      "  %76 : Float() = onnx::ReduceMean[keepdims=0](%75) # /home/luxian/tf/models/LPRNet_Pytorch-master/model/LPRNet_i.py:74:0\n",
      "  %77 : Float(1, 128, 4, 18) = onnx::Div(%73, %76) # /home/luxian/tf/models/LPRNet_Pytorch-master/model/LPRNet_i.py:75:0\n",
      "  %78 : Tensor = onnx::Pad[mode=\"constant\", pads=[0, 0, 0, 0, 0, 0, 0, 0], value=0](%60)\n",
      "  %79 : Float(1, 256, 4, 18) = onnx::AveragePool[kernel_shape=[4, 10], pads=[0, 0, 0, 0], strides=[4, 2]](%78) # /home/luxian/anaconda3/envs/lpr/lib/python3.6/site-packages/torch/nn/modules/pooling.py:554:0\n",
      "  %80 : Float() = onnx::Constant[value={2}]()\n",
      "  %81 : Float(1, 256, 4, 18) = onnx::Pow(%79, %80) # /home/luxian/tf/models/LPRNet_Pytorch-master/model/LPRNet_i.py:73:0\n",
      "  %82 : Float() = onnx::ReduceMean[keepdims=0](%81) # /home/luxian/tf/models/LPRNet_Pytorch-master/model/LPRNet_i.py:74:0\n",
      "  %83 : Float(1, 256, 4, 18) = onnx::Div(%79, %82) # /home/luxian/tf/models/LPRNet_Pytorch-master/model/LPRNet_i.py:75:0\n",
      "  %84 : Float() = onnx::Constant[value={2}]()\n",
      "  %85 : Float(1, 68, 4, 18) = onnx::Pow(%65, %84) # /home/luxian/tf/models/LPRNet_Pytorch-master/model/LPRNet_i.py:73:0\n",
      "  %86 : Float() = onnx::ReduceMean[keepdims=0](%85) # /home/luxian/tf/models/LPRNet_Pytorch-master/model/LPRNet_i.py:74:0\n",
      "  %87 : Float(1, 68, 4, 18) = onnx::Div(%65, %86) # /home/luxian/tf/models/LPRNet_Pytorch-master/model/LPRNet_i.py:75:0\n",
      "  %88 : Float(1, 516, 4, 18) = onnx::Concat[axis=1](%71, %77, %83, %87) # /home/luxian/tf/models/LPRNet_Pytorch-master/model/LPRNet_i.py:78:0\n",
      "  %89 : Float(1, 68, 4, 18) = onnx::Conv[dilations=[1, 1], group=1, kernel_shape=[1, 1], pads=[0, 0, 0, 0], strides=[1, 1]](%88, %container.0.weight, %container.0.bias) # /home/luxian/anaconda3/envs/lpr/lib/python3.6/site-packages/torch/nn/modules/conv.py:342:0\n",
      "  %output : Float(1, 68, 18) = onnx::ReduceMean[axes=[2], keepdims=0](%89) # /home/luxian/tf/models/LPRNet_Pytorch-master/model/LPRNet_i.py:80:0\n",
      "  return (%output)\n",
      "\n"
     ]
    }
   ],
   "source": [
    "torch.onnx.export(lprnet, dummy_input1, \"./weights/lprnet_1.onnx\", verbose=True, input_names=input_names, output_names=output_names)"
   ]
  },
  {
   "cell_type": "code",
   "execution_count": null,
   "metadata": {},
   "outputs": [],
   "source": []
  }
 ],
 "metadata": {
  "kernelspec": {
   "display_name": "lpr",
   "language": "python",
   "name": "lpr"
  },
  "language_info": {
   "codemirror_mode": {
    "name": "ipython",
    "version": 3
   },
   "file_extension": ".py",
   "mimetype": "text/x-python",
   "name": "python",
   "nbconvert_exporter": "python",
   "pygments_lexer": "ipython3",
   "version": "3.6.13"
  }
 },
 "nbformat": 4,
 "nbformat_minor": 4
}
