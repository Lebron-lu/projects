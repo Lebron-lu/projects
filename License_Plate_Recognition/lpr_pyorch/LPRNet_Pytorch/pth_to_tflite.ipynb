{
 "cells": [
  {
   "cell_type": "code",
   "execution_count": 2,
   "metadata": {},
   "outputs": [
    {
     "name": "stderr",
     "output_type": "stream",
     "text": [
      "/home/luxian/anaconda3/envs/pth-tf/lib/python3.6/site-packages/torch/serialization.py:657: SourceChangeWarning: source code of class 'model.LPRNet_noname.LPRNet' has changed. you can retrieve the original source code by accessing the object's source attribute or set `torch.nn.Module.dump_patches = True` and use the patch tool to revert the changes.\n",
      "  warnings.warn(msg, SourceChangeWarning)\n",
      "/home/luxian/anaconda3/envs/pth-tf/lib/python3.6/site-packages/torch/serialization.py:657: SourceChangeWarning: source code of class 'torch.nn.modules.conv.Conv2d' has changed. you can retrieve the original source code by accessing the object's source attribute or set `torch.nn.Module.dump_patches = True` and use the patch tool to revert the changes.\n",
      "  warnings.warn(msg, SourceChangeWarning)\n",
      "/home/luxian/anaconda3/envs/pth-tf/lib/python3.6/site-packages/torch/serialization.py:657: SourceChangeWarning: source code of class 'torch.nn.modules.activation.ReLU' has changed. you can retrieve the original source code by accessing the object's source attribute or set `torch.nn.Module.dump_patches = True` and use the patch tool to revert the changes.\n",
      "  warnings.warn(msg, SourceChangeWarning)\n"
     ]
    },
    {
     "name": "stdout",
     "output_type": "stream",
     "text": [
      "graph(%input : Float(1, 3, 24, 94),\n",
      "      %backbone.0.weight : Float(64, 3, 3, 3),\n",
      "      %backbone.0.bias : Float(64),\n",
      "      %backbone.3.block.0.weight : Float(32, 64, 1, 1),\n",
      "      %backbone.3.block.0.bias : Float(32),\n",
      "      %backbone.3.block.2.weight : Float(32, 32, 3, 1),\n",
      "      %backbone.3.block.2.bias : Float(32),\n",
      "      %backbone.3.block.4.weight : Float(32, 32, 1, 3),\n",
      "      %backbone.3.block.4.bias : Float(32),\n",
      "      %backbone.3.block.6.weight : Float(128, 32, 1, 1),\n",
      "      %backbone.3.block.6.bias : Float(128),\n",
      "      %backbone.6.block.0.weight : Float(64, 64, 1, 1),\n",
      "      %backbone.6.block.0.bias : Float(64),\n",
      "      %backbone.6.block.2.weight : Float(64, 64, 3, 1),\n",
      "      %backbone.6.block.2.bias : Float(64),\n",
      "      %backbone.6.block.4.weight : Float(64, 64, 1, 3),\n",
      "      %backbone.6.block.4.bias : Float(64),\n",
      "      %backbone.6.block.6.weight : Float(256, 64, 1, 1),\n",
      "      %backbone.6.block.6.bias : Float(256),\n",
      "      %backbone.8.block.0.weight : Float(64, 256, 1, 1),\n",
      "      %backbone.8.block.0.bias : Float(64),\n",
      "      %backbone.8.block.2.weight : Float(64, 64, 3, 1),\n",
      "      %backbone.8.block.2.bias : Float(64),\n",
      "      %backbone.8.block.4.weight : Float(64, 64, 1, 3),\n",
      "      %backbone.8.block.4.bias : Float(64),\n",
      "      %backbone.8.block.6.weight : Float(256, 64, 1, 1),\n",
      "      %backbone.8.block.6.bias : Float(256),\n",
      "      %backbone.12.weight : Float(256, 64, 1, 4),\n",
      "      %backbone.12.bias : Float(256),\n",
      "      %backbone.15.weight : Float(68, 256, 13, 1),\n",
      "      %backbone.15.bias : Float(68),\n",
      "      %container.0.weight : Float(68, 516, 1, 1),\n",
      "      %container.0.bias : Float(68)):\n",
      "  %33 : Float(1, 64, 22, 92) = onnx::Conv[dilations=[1, 1], group=1, kernel_shape=[3, 3], pads=[0, 0, 0, 0], strides=[1, 1]](%input, %backbone.0.weight, %backbone.0.bias) # /home/luxian/anaconda3/envs/pth-tf/lib/python3.6/site-packages/torch/nn/modules/conv.py:350:0\n",
      "  %34 : Float(1, 64, 22, 92) = onnx::Relu(%33) # /home/luxian/anaconda3/envs/pth-tf/lib/python3.6/site-packages/torch/nn/functional.py:1063:0\n",
      "  %35 : Float(1, 64, 20, 90) = onnx::MaxPool[kernel_shape=[1, 3, 3], pads=[0, 0, 0, 0, 0, 0], strides=[1, 1, 1]](%34) # /home/luxian/anaconda3/envs/pth-tf/lib/python3.6/site-packages/torch/nn/functional.py:582:0\n",
      "  %36 : Float(1, 32, 20, 90) = onnx::Conv[dilations=[1, 1], group=1, kernel_shape=[1, 1], pads=[0, 0, 0, 0], strides=[1, 1]](%35, %backbone.3.block.0.weight, %backbone.3.block.0.bias) # /home/luxian/anaconda3/envs/pth-tf/lib/python3.6/site-packages/torch/nn/modules/conv.py:350:0\n",
      "  %37 : Float(1, 32, 20, 90) = onnx::Relu(%36) # /home/luxian/anaconda3/envs/pth-tf/lib/python3.6/site-packages/torch/nn/functional.py:1063:0\n",
      "  %38 : Float(1, 32, 20, 90) = onnx::Conv[dilations=[1, 1], group=1, kernel_shape=[3, 1], pads=[1, 0, 1, 0], strides=[1, 1]](%37, %backbone.3.block.2.weight, %backbone.3.block.2.bias) # /home/luxian/anaconda3/envs/pth-tf/lib/python3.6/site-packages/torch/nn/modules/conv.py:350:0\n",
      "  %39 : Float(1, 32, 20, 90) = onnx::Relu(%38) # /home/luxian/anaconda3/envs/pth-tf/lib/python3.6/site-packages/torch/nn/functional.py:1063:0\n",
      "  %40 : Float(1, 32, 20, 90) = onnx::Conv[dilations=[1, 1], group=1, kernel_shape=[1, 3], pads=[0, 1, 0, 1], strides=[1, 1]](%39, %backbone.3.block.4.weight, %backbone.3.block.4.bias) # /home/luxian/anaconda3/envs/pth-tf/lib/python3.6/site-packages/torch/nn/modules/conv.py:350:0\n",
      "  %41 : Float(1, 32, 20, 90) = onnx::Relu(%40) # /home/luxian/anaconda3/envs/pth-tf/lib/python3.6/site-packages/torch/nn/functional.py:1063:0\n",
      "  %42 : Float(1, 128, 20, 90) = onnx::Conv[dilations=[1, 1], group=1, kernel_shape=[1, 1], pads=[0, 0, 0, 0], strides=[1, 1]](%41, %backbone.3.block.6.weight, %backbone.3.block.6.bias) # /home/luxian/anaconda3/envs/pth-tf/lib/python3.6/site-packages/torch/nn/modules/conv.py:350:0\n",
      "  %43 : Float(1, 128, 20, 90) = onnx::Relu(%42) # /home/luxian/anaconda3/envs/pth-tf/lib/python3.6/site-packages/torch/nn/functional.py:1063:0\n",
      "  %44 : Float(1, 64, 18, 44) = onnx::MaxPool[kernel_shape=[1, 3, 3], pads=[0, 0, 0, 0, 0, 0], strides=[2, 1, 2]](%43) # /home/luxian/anaconda3/envs/pth-tf/lib/python3.6/site-packages/torch/nn/functional.py:582:0\n",
      "  %45 : Float(1, 64, 18, 44) = onnx::Conv[dilations=[1, 1], group=1, kernel_shape=[1, 1], pads=[0, 0, 0, 0], strides=[1, 1]](%44, %backbone.6.block.0.weight, %backbone.6.block.0.bias) # /home/luxian/anaconda3/envs/pth-tf/lib/python3.6/site-packages/torch/nn/modules/conv.py:350:0\n",
      "  %46 : Float(1, 64, 18, 44) = onnx::Relu(%45) # /home/luxian/anaconda3/envs/pth-tf/lib/python3.6/site-packages/torch/nn/functional.py:1063:0\n",
      "  %47 : Float(1, 64, 18, 44) = onnx::Conv[dilations=[1, 1], group=1, kernel_shape=[3, 1], pads=[1, 0, 1, 0], strides=[1, 1]](%46, %backbone.6.block.2.weight, %backbone.6.block.2.bias) # /home/luxian/anaconda3/envs/pth-tf/lib/python3.6/site-packages/torch/nn/modules/conv.py:350:0\n",
      "  %48 : Float(1, 64, 18, 44) = onnx::Relu(%47) # /home/luxian/anaconda3/envs/pth-tf/lib/python3.6/site-packages/torch/nn/functional.py:1063:0\n",
      "  %49 : Float(1, 64, 18, 44) = onnx::Conv[dilations=[1, 1], group=1, kernel_shape=[1, 3], pads=[0, 1, 0, 1], strides=[1, 1]](%48, %backbone.6.block.4.weight, %backbone.6.block.4.bias) # /home/luxian/anaconda3/envs/pth-tf/lib/python3.6/site-packages/torch/nn/modules/conv.py:350:0\n",
      "  %50 : Float(1, 64, 18, 44) = onnx::Relu(%49) # /home/luxian/anaconda3/envs/pth-tf/lib/python3.6/site-packages/torch/nn/functional.py:1063:0\n",
      "  %51 : Float(1, 256, 18, 44) = onnx::Conv[dilations=[1, 1], group=1, kernel_shape=[1, 1], pads=[0, 0, 0, 0], strides=[1, 1]](%50, %backbone.6.block.6.weight, %backbone.6.block.6.bias) # /home/luxian/anaconda3/envs/pth-tf/lib/python3.6/site-packages/torch/nn/modules/conv.py:350:0\n",
      "  %52 : Float(1, 256, 18, 44) = onnx::Relu(%51) # /home/luxian/anaconda3/envs/pth-tf/lib/python3.6/site-packages/torch/nn/functional.py:1063:0\n",
      "  %53 : Float(1, 64, 18, 44) = onnx::Conv[dilations=[1, 1], group=1, kernel_shape=[1, 1], pads=[0, 0, 0, 0], strides=[1, 1]](%52, %backbone.8.block.0.weight, %backbone.8.block.0.bias) # /home/luxian/anaconda3/envs/pth-tf/lib/python3.6/site-packages/torch/nn/modules/conv.py:350:0\n",
      "  %54 : Float(1, 64, 18, 44) = onnx::Relu(%53) # /home/luxian/anaconda3/envs/pth-tf/lib/python3.6/site-packages/torch/nn/functional.py:1063:0\n",
      "  %55 : Float(1, 64, 18, 44) = onnx::Conv[dilations=[1, 1], group=1, kernel_shape=[3, 1], pads=[1, 0, 1, 0], strides=[1, 1]](%54, %backbone.8.block.2.weight, %backbone.8.block.2.bias) # /home/luxian/anaconda3/envs/pth-tf/lib/python3.6/site-packages/torch/nn/modules/conv.py:350:0\n",
      "  %56 : Float(1, 64, 18, 44) = onnx::Relu(%55) # /home/luxian/anaconda3/envs/pth-tf/lib/python3.6/site-packages/torch/nn/functional.py:1063:0\n",
      "  %57 : Float(1, 64, 18, 44) = onnx::Conv[dilations=[1, 1], group=1, kernel_shape=[1, 3], pads=[0, 1, 0, 1], strides=[1, 1]](%56, %backbone.8.block.4.weight, %backbone.8.block.4.bias) # /home/luxian/anaconda3/envs/pth-tf/lib/python3.6/site-packages/torch/nn/modules/conv.py:350:0\n",
      "  %58 : Float(1, 64, 18, 44) = onnx::Relu(%57) # /home/luxian/anaconda3/envs/pth-tf/lib/python3.6/site-packages/torch/nn/functional.py:1063:0\n",
      "  %59 : Float(1, 256, 18, 44) = onnx::Conv[dilations=[1, 1], group=1, kernel_shape=[1, 1], pads=[0, 0, 0, 0], strides=[1, 1]](%58, %backbone.8.block.6.weight, %backbone.8.block.6.bias) # /home/luxian/anaconda3/envs/pth-tf/lib/python3.6/site-packages/torch/nn/modules/conv.py:350:0\n",
      "  %60 : Float(1, 256, 18, 44) = onnx::Relu(%59) # /home/luxian/anaconda3/envs/pth-tf/lib/python3.6/site-packages/torch/nn/functional.py:1063:0\n",
      "  %61 : Float(1, 64, 16, 21) = onnx::MaxPool[kernel_shape=[1, 3, 3], pads=[0, 0, 0, 0, 0, 0], strides=[4, 1, 2]](%60) # /home/luxian/anaconda3/envs/pth-tf/lib/python3.6/site-packages/torch/nn/functional.py:936:0\n",
      "  %62 : Float(1, 256, 16, 18) = onnx::Conv[dilations=[1, 1], group=1, kernel_shape=[1, 4], pads=[0, 0, 0, 0], strides=[1, 1]](%61, %backbone.12.weight, %backbone.12.bias) # /home/luxian/anaconda3/envs/pth-tf/lib/python3.6/site-packages/torch/nn/modules/conv.py:350:0\n",
      "  %63 : Float(1, 256, 16, 18) = onnx::Relu(%62) # /home/luxian/anaconda3/envs/pth-tf/lib/python3.6/site-packages/torch/nn/functional.py:936:0\n",
      "  %64 : Float(1, 68, 4, 18) = onnx::Conv[dilations=[1, 1], group=1, kernel_shape=[13, 1], pads=[0, 0, 0, 0], strides=[1, 1]](%63, %backbone.15.weight, %backbone.15.bias) # /home/luxian/anaconda3/envs/pth-tf/lib/python3.6/site-packages/torch/nn/modules/conv.py:350:0\n",
      "  %65 : Float(1, 68, 4, 18) = onnx::Relu(%64) # /home/luxian/anaconda3/envs/pth-tf/lib/python3.6/site-packages/torch/nn/functional.py:1063:0\n",
      "  %66 : Tensor = onnx::Pad[mode=\"constant\", pads=[0, 0, 0, 0, 0, 0, 0, 0], value=0.](%34)\n",
      "  %67 : Float(1, 64, 4, 18) = onnx::AveragePool[kernel_shape=[5, 5], pads=[0, 0, 0, 0], strides=[5, 5]](%66) # /home/luxian/anaconda3/envs/pth-tf/lib/python3.6/site-packages/torch/nn/modules/pooling.py:554:0\n",
      "  %68 : Float(1, 64, 4, 18) = onnx::Mul(%67, %67) # /home/luxian/tf/projects/LPRNet/LPRNet_Pytorch-master/model/LPRNet_noname.py:74:0\n",
      "  %69 : Float() = onnx::ReduceMean[keepdims=0](%68) # /home/luxian/tf/projects/LPRNet/LPRNet_Pytorch-master/model/LPRNet_noname.py:75:0\n",
      "  %70 : Float(1, 64, 4, 18) = onnx::Div(%67, %69) # /home/luxian/tf/projects/LPRNet/LPRNet_Pytorch-master/model/LPRNet_noname.py:76:0\n",
      "  %71 : Tensor = onnx::Pad[mode=\"constant\", pads=[0, 0, 0, 0, 0, 0, 0, 0], value=0.](%43)\n",
      "  %72 : Float(1, 128, 4, 18) = onnx::AveragePool[kernel_shape=[5, 5], pads=[0, 0, 0, 0], strides=[5, 5]](%71) # /home/luxian/anaconda3/envs/pth-tf/lib/python3.6/site-packages/torch/nn/modules/pooling.py:554:0\n",
      "  %73 : Float(1, 128, 4, 18) = onnx::Mul(%72, %72) # /home/luxian/tf/projects/LPRNet/LPRNet_Pytorch-master/model/LPRNet_noname.py:74:0\n",
      "  %74 : Float() = onnx::ReduceMean[keepdims=0](%73) # /home/luxian/tf/projects/LPRNet/LPRNet_Pytorch-master/model/LPRNet_noname.py:75:0\n",
      "  %75 : Float(1, 128, 4, 18) = onnx::Div(%72, %74) # /home/luxian/tf/projects/LPRNet/LPRNet_Pytorch-master/model/LPRNet_noname.py:76:0\n",
      "  %76 : Tensor = onnx::Pad[mode=\"constant\", pads=[0, 0, 0, 0, 0, 0, 0, 0], value=0.](%60)\n",
      "  %77 : Float(1, 256, 4, 18) = onnx::AveragePool[kernel_shape=[4, 10], pads=[0, 0, 0, 0], strides=[4, 2]](%76) # /home/luxian/anaconda3/envs/pth-tf/lib/python3.6/site-packages/torch/nn/modules/pooling.py:554:0\n",
      "  %78 : Float(1, 256, 4, 18) = onnx::Mul(%77, %77) # /home/luxian/tf/projects/LPRNet/LPRNet_Pytorch-master/model/LPRNet_noname.py:74:0\n",
      "  %79 : Float() = onnx::ReduceMean[keepdims=0](%78) # /home/luxian/tf/projects/LPRNet/LPRNet_Pytorch-master/model/LPRNet_noname.py:75:0\n",
      "  %80 : Float(1, 256, 4, 18) = onnx::Div(%77, %79) # /home/luxian/tf/projects/LPRNet/LPRNet_Pytorch-master/model/LPRNet_noname.py:76:0\n",
      "  %81 : Float(1, 68, 4, 18) = onnx::Mul(%65, %65) # /home/luxian/tf/projects/LPRNet/LPRNet_Pytorch-master/model/LPRNet_noname.py:74:0\n",
      "  %82 : Float() = onnx::ReduceMean[keepdims=0](%81) # /home/luxian/tf/projects/LPRNet/LPRNet_Pytorch-master/model/LPRNet_noname.py:75:0\n",
      "  %83 : Float(1, 68, 4, 18) = onnx::Div(%65, %82) # /home/luxian/tf/projects/LPRNet/LPRNet_Pytorch-master/model/LPRNet_noname.py:76:0\n",
      "  %84 : Float(1, 516, 4, 18) = onnx::Concat[axis=1](%70, %75, %80, %83) # /home/luxian/tf/projects/LPRNet/LPRNet_Pytorch-master/model/LPRNet_noname.py:79:0\n",
      "  %85 : Float(1, 68, 4, 18) = onnx::Conv[dilations=[1, 1], group=1, kernel_shape=[1, 1], pads=[0, 0, 0, 0], strides=[1, 1]](%84, %container.0.weight, %container.0.bias) # /home/luxian/anaconda3/envs/pth-tf/lib/python3.6/site-packages/torch/nn/modules/conv.py:350:0\n",
      "  %output : Float(1, 68, 18) = onnx::ReduceMean[axes=[2], keepdims=0](%85) # /home/luxian/tf/projects/LPRNet/LPRNet_Pytorch-master/model/LPRNet_noname.py:81:0\n",
      "  return (%output)\n",
      "\n"
     ]
    }
   ],
   "source": [
    "import io\n",
    "import torch\n",
    "import torch.onnx\n",
    "from model.LPRNet_noname import build_lprnet\n",
    "\n",
    "pthfile =r'./save_model/lprnet84.0.pth'\n",
    "\n",
    "lprnet = build_lprnet(lpr_max_len=8, phase=False, class_num=66, dropout_rate=0.5)\n",
    "lprnet = torch.load(pthfile, map_location='cpu')\n",
    "\n",
    "dummy_input = torch.randn(1, 3, 24, 94)\n",
    "input_names = [ 'input' ]\n",
    "output_names = [ 'output' ]\n",
    "\n",
    "onnxfile = pthfile[0:-3]+ r'onnx'\n",
    "torch.onnx.export(lprnet, \n",
    "                  dummy_input, \n",
    "                  onnxfile, \n",
    "                  verbose=True,\n",
    "                  export_params=True, #\n",
    "                  input_names=input_names, \n",
    "                  output_names=output_names)"
   ]
  },
  {
   "cell_type": "markdown",
   "metadata": {},
   "source": []
  },
  {
   "cell_type": "code",
   "execution_count": 8,
   "metadata": {
    "scrolled": true
   },
   "outputs": [
    {
     "name": "stdout",
     "output_type": "stream",
     "text": [
      "LPRNet(\n",
      "  (backbone): Sequential(\n",
      "    (0): Conv2d(3, 64, kernel_size=(3, 3), stride=(1, 1))\n",
      "    (1): ReLU()\n",
      "    (2): MaxPool3d(kernel_size=(1, 3, 3), stride=(1, 1, 1), padding=0, dilation=1, ceil_mode=False)\n",
      "    (3): small_basic_block(\n",
      "      (block): Sequential(\n",
      "        (0): Conv2d(64, 32, kernel_size=(1, 1), stride=(1, 1))\n",
      "        (1): ReLU()\n",
      "        (2): Conv2d(32, 32, kernel_size=(3, 1), stride=(1, 1), padding=(1, 0))\n",
      "        (3): ReLU()\n",
      "        (4): Conv2d(32, 32, kernel_size=(1, 3), stride=(1, 1), padding=(0, 1))\n",
      "        (5): ReLU()\n",
      "        (6): Conv2d(32, 128, kernel_size=(1, 1), stride=(1, 1))\n",
      "      )\n",
      "    )\n",
      "    (4): ReLU()\n",
      "    (5): MaxPool3d(kernel_size=(1, 3, 3), stride=(2, 1, 2), padding=0, dilation=1, ceil_mode=False)\n",
      "    (6): small_basic_block(\n",
      "      (block): Sequential(\n",
      "        (0): Conv2d(64, 64, kernel_size=(1, 1), stride=(1, 1))\n",
      "        (1): ReLU()\n",
      "        (2): Conv2d(64, 64, kernel_size=(3, 1), stride=(1, 1), padding=(1, 0))\n",
      "        (3): ReLU()\n",
      "        (4): Conv2d(64, 64, kernel_size=(1, 3), stride=(1, 1), padding=(0, 1))\n",
      "        (5): ReLU()\n",
      "        (6): Conv2d(64, 256, kernel_size=(1, 1), stride=(1, 1))\n",
      "      )\n",
      "    )\n",
      "    (7): ReLU()\n",
      "    (8): small_basic_block(\n",
      "      (block): Sequential(\n",
      "        (0): Conv2d(256, 64, kernel_size=(1, 1), stride=(1, 1))\n",
      "        (1): ReLU()\n",
      "        (2): Conv2d(64, 64, kernel_size=(3, 1), stride=(1, 1), padding=(1, 0))\n",
      "        (3): ReLU()\n",
      "        (4): Conv2d(64, 64, kernel_size=(1, 3), stride=(1, 1), padding=(0, 1))\n",
      "        (5): ReLU()\n",
      "        (6): Conv2d(64, 256, kernel_size=(1, 1), stride=(1, 1))\n",
      "      )\n",
      "    )\n",
      "    (9): ReLU()\n",
      "    (10): MaxPool3d(kernel_size=(1, 3, 3), stride=(4, 1, 2), padding=0, dilation=1, ceil_mode=False)\n",
      "    (11): Dropout(p=0.5, inplace=False)\n",
      "    (12): Conv2d(64, 256, kernel_size=(1, 4), stride=(1, 1))\n",
      "    (13): ReLU()\n",
      "    (14): Dropout(p=0.5, inplace=False)\n",
      "    (15): Conv2d(256, 68, kernel_size=(13, 1), stride=(1, 1))\n",
      "    (16): ReLU()\n",
      "  )\n",
      "  (container): Sequential(\n",
      "    (0): Conv2d(516, 68, kernel_size=(1, 1), stride=(1, 1))\n",
      "  )\n",
      ")\n"
     ]
    }
   ],
   "source": [
    "print(lprnet)"
   ]
  },
  {
   "cell_type": "code",
   "execution_count": 9,
   "metadata": {},
   "outputs": [
    {
     "name": "stdout",
     "output_type": "stream",
     "text": [
      "/home/luxian/tf/projects/LPRNet/LPRNet_Pytorch-master\r\n"
     ]
    }
   ],
   "source": [
    "!pwd"
   ]
  },
  {
   "cell_type": "code",
   "execution_count": 7,
   "metadata": {},
   "outputs": [
    {
     "ename": "ValueError",
     "evalue": "in user code:\n\n    /home/luxian/anaconda3/envs/pth-tf/lib/python3.6/site-packages/onnx_tf/backend_tf_module.py:98 __call__  *\n        output_ops = self.backend._onnx_node_to_tensorflow_op(onnx_node,\n    /home/luxian/anaconda3/envs/pth-tf/lib/python3.6/site-packages/onnx_tf/backend.py:289 _onnx_node_to_tensorflow_op  *\n        return handler.handle(node, tensor_dict=tensor_dict, strict=strict)\n    /home/luxian/anaconda3/envs/pth-tf/lib/python3.6/site-packages/onnx_tf/handlers/handler.py:59 handle  *\n        return ver_handle(node, **kwargs)\n    /home/luxian/anaconda3/envs/pth-tf/lib/python3.6/site-packages/onnx_tf/handlers/backend/max_pool.py:28 version_8  *\n        return cls._common(node, **kwargs)\n    /home/luxian/anaconda3/envs/pth-tf/lib/python3.6/site-packages/onnx_tf/handlers/backend/max_pool.py:20 _common  *\n        kwargs.get(\"strict\", True))\n    /home/luxian/anaconda3/envs/pth-tf/lib/python3.6/site-packages/onnx_tf/handlers/backend/pool_mixin.py:171 pool  **\n        pooled, argmax = pooling_op()\n    /home/luxian/anaconda3/envs/pth-tf/lib/python3.6/site-packages/onnx_tf/handlers/backend/pool_mixin.py:110 dilated_pool\n        return (dp.dilated_pool(), None)\n    /home/luxian/anaconda3/envs/pth-tf/lib/python3.6/site-packages/onnx_tf/handlers/backend/dilated_pooling.py:679 dilated_pool\n        self.storage_format, self.compute_format))\n    /home/luxian/anaconda3/envs/pth-tf/lib/python3.6/site-packages/tensorflow/python/util/dispatch.py:206 wrapper\n        return target(*args, **kwargs)\n    /home/luxian/anaconda3/envs/pth-tf/lib/python3.6/site-packages/tensorflow/python/ops/array_ops.py:2228 transpose_v2\n        return transpose(a=a, perm=perm, name=name, conjugate=conjugate)\n    /home/luxian/anaconda3/envs/pth-tf/lib/python3.6/site-packages/tensorflow/python/util/dispatch.py:206 wrapper\n        return target(*args, **kwargs)\n    /home/luxian/anaconda3/envs/pth-tf/lib/python3.6/site-packages/tensorflow/python/ops/array_ops.py:2309 transpose\n        return transpose_fn(a, perm, name=name)\n    /home/luxian/anaconda3/envs/pth-tf/lib/python3.6/site-packages/tensorflow/python/ops/gen_array_ops.py:11659 transpose\n        \"Transpose\", x=x, perm=perm, name=name)\n    /home/luxian/anaconda3/envs/pth-tf/lib/python3.6/site-packages/tensorflow/python/framework/op_def_library.py:750 _apply_op_helper\n        attrs=attr_protos, op_def=op_def)\n    /home/luxian/anaconda3/envs/pth-tf/lib/python3.6/site-packages/tensorflow/python/framework/func_graph.py:601 _create_op_internal\n        compute_device)\n    /home/luxian/anaconda3/envs/pth-tf/lib/python3.6/site-packages/tensorflow/python/framework/ops.py:3569 _create_op_internal\n        op_def=op_def)\n    /home/luxian/anaconda3/envs/pth-tf/lib/python3.6/site-packages/tensorflow/python/framework/ops.py:2042 __init__\n        control_input_ops, op_def)\n    /home/luxian/anaconda3/envs/pth-tf/lib/python3.6/site-packages/tensorflow/python/framework/ops.py:1883 _create_c_op\n        raise ValueError(str(e))\n\n    ValueError: Dimension must be 4 but is 5 for '{{node transpose_3}} = Transpose[T=DT_FLOAT, Tperm=DT_INT32](onnx_tf_prefix_Relu_1, transpose_3/perm)' with input shapes: [1,64,22,92], [5].\n",
     "output_type": "error",
     "traceback": [
      "\u001b[0;31m---------------------------------------------------------------------------\u001b[0m",
      "\u001b[0;31mValueError\u001b[0m                                Traceback (most recent call last)",
      "\u001b[0;32m<ipython-input-7-f90fd61143d9>\u001b[0m in \u001b[0;36m<module>\u001b[0;34m\u001b[0m\n\u001b[1;32m      7\u001b[0m \u001b[0monnx_model\u001b[0m \u001b[0;34m=\u001b[0m \u001b[0monnx\u001b[0m\u001b[0;34m.\u001b[0m\u001b[0mload\u001b[0m\u001b[0;34m(\u001b[0m\u001b[0mONNX_PATH\u001b[0m\u001b[0;34m)\u001b[0m  \u001b[0;31m# load onnx model\u001b[0m\u001b[0;34m\u001b[0m\u001b[0;34m\u001b[0m\u001b[0m\n\u001b[1;32m      8\u001b[0m \u001b[0mtf_rep\u001b[0m \u001b[0;34m=\u001b[0m \u001b[0mprepare\u001b[0m\u001b[0;34m(\u001b[0m\u001b[0monnx_model\u001b[0m\u001b[0;34m)\u001b[0m  \u001b[0;31m# creating TensorflowRep object\u001b[0m\u001b[0;34m\u001b[0m\u001b[0;34m\u001b[0m\u001b[0m\n\u001b[0;32m----> 9\u001b[0;31m \u001b[0mtf_rep\u001b[0m\u001b[0;34m.\u001b[0m\u001b[0mexport_graph\u001b[0m\u001b[0;34m(\u001b[0m\u001b[0mTF_PATH\u001b[0m\u001b[0;34m)\u001b[0m\u001b[0;34m\u001b[0m\u001b[0;34m\u001b[0m\u001b[0m\n\u001b[0m",
      "\u001b[0;32m~/anaconda3/envs/pth-tf/lib/python3.6/site-packages/onnx_tf/backend_rep.py\u001b[0m in \u001b[0;36mexport_graph\u001b[0;34m(self, path)\u001b[0m\n\u001b[1;32m    114\u001b[0m         \u001b[0mpath\u001b[0m\u001b[0;34m,\u001b[0m\u001b[0;34m\u001b[0m\u001b[0;34m\u001b[0m\u001b[0m\n\u001b[1;32m    115\u001b[0m         signatures=self.tf_module.__call__.get_concrete_function(\n\u001b[0;32m--> 116\u001b[0;31m             **self.signatures))\n\u001b[0m",
      "\u001b[0;32m~/anaconda3/envs/pth-tf/lib/python3.6/site-packages/tensorflow/python/eager/def_function.py\u001b[0m in \u001b[0;36mget_concrete_function\u001b[0;34m(self, *args, **kwargs)\u001b[0m\n\u001b[1;32m   1287\u001b[0m   \u001b[0;32mdef\u001b[0m \u001b[0mget_concrete_function\u001b[0m\u001b[0;34m(\u001b[0m\u001b[0mself\u001b[0m\u001b[0;34m,\u001b[0m \u001b[0;34m*\u001b[0m\u001b[0margs\u001b[0m\u001b[0;34m,\u001b[0m \u001b[0;34m**\u001b[0m\u001b[0mkwargs\u001b[0m\u001b[0;34m)\u001b[0m\u001b[0;34m:\u001b[0m\u001b[0;34m\u001b[0m\u001b[0;34m\u001b[0m\u001b[0m\n\u001b[1;32m   1288\u001b[0m     \u001b[0;31m# Implements GenericFunction.get_concrete_function.\u001b[0m\u001b[0;34m\u001b[0m\u001b[0;34m\u001b[0m\u001b[0;34m\u001b[0m\u001b[0m\n\u001b[0;32m-> 1289\u001b[0;31m     \u001b[0mconcrete\u001b[0m \u001b[0;34m=\u001b[0m \u001b[0mself\u001b[0m\u001b[0;34m.\u001b[0m\u001b[0m_get_concrete_function_garbage_collected\u001b[0m\u001b[0;34m(\u001b[0m\u001b[0;34m*\u001b[0m\u001b[0margs\u001b[0m\u001b[0;34m,\u001b[0m \u001b[0;34m**\u001b[0m\u001b[0mkwargs\u001b[0m\u001b[0;34m)\u001b[0m\u001b[0;34m\u001b[0m\u001b[0;34m\u001b[0m\u001b[0m\n\u001b[0m\u001b[1;32m   1290\u001b[0m     \u001b[0mconcrete\u001b[0m\u001b[0;34m.\u001b[0m\u001b[0m_garbage_collector\u001b[0m\u001b[0;34m.\u001b[0m\u001b[0mrelease\u001b[0m\u001b[0;34m(\u001b[0m\u001b[0;34m)\u001b[0m  \u001b[0;31m# pylint: disable=protected-access\u001b[0m\u001b[0;34m\u001b[0m\u001b[0;34m\u001b[0m\u001b[0m\n\u001b[1;32m   1291\u001b[0m     \u001b[0;32mreturn\u001b[0m \u001b[0mconcrete\u001b[0m\u001b[0;34m\u001b[0m\u001b[0;34m\u001b[0m\u001b[0m\n",
      "\u001b[0;32m~/anaconda3/envs/pth-tf/lib/python3.6/site-packages/tensorflow/python/eager/def_function.py\u001b[0m in \u001b[0;36m_get_concrete_function_garbage_collected\u001b[0;34m(self, *args, **kwargs)\u001b[0m\n\u001b[1;32m   1267\u001b[0m       \u001b[0;32mif\u001b[0m \u001b[0mself\u001b[0m\u001b[0;34m.\u001b[0m\u001b[0m_stateful_fn\u001b[0m \u001b[0;32mis\u001b[0m \u001b[0;32mNone\u001b[0m\u001b[0;34m:\u001b[0m\u001b[0;34m\u001b[0m\u001b[0;34m\u001b[0m\u001b[0m\n\u001b[1;32m   1268\u001b[0m         \u001b[0minitializers\u001b[0m \u001b[0;34m=\u001b[0m \u001b[0;34m[\u001b[0m\u001b[0;34m]\u001b[0m\u001b[0;34m\u001b[0m\u001b[0;34m\u001b[0m\u001b[0m\n\u001b[0;32m-> 1269\u001b[0;31m         \u001b[0mself\u001b[0m\u001b[0;34m.\u001b[0m\u001b[0m_initialize\u001b[0m\u001b[0;34m(\u001b[0m\u001b[0margs\u001b[0m\u001b[0;34m,\u001b[0m \u001b[0mkwargs\u001b[0m\u001b[0;34m,\u001b[0m \u001b[0madd_initializers_to\u001b[0m\u001b[0;34m=\u001b[0m\u001b[0minitializers\u001b[0m\u001b[0;34m)\u001b[0m\u001b[0;34m\u001b[0m\u001b[0;34m\u001b[0m\u001b[0m\n\u001b[0m\u001b[1;32m   1270\u001b[0m         \u001b[0mself\u001b[0m\u001b[0;34m.\u001b[0m\u001b[0m_initialize_uninitialized_variables\u001b[0m\u001b[0;34m(\u001b[0m\u001b[0minitializers\u001b[0m\u001b[0;34m)\u001b[0m\u001b[0;34m\u001b[0m\u001b[0;34m\u001b[0m\u001b[0m\n\u001b[1;32m   1271\u001b[0m \u001b[0;34m\u001b[0m\u001b[0m\n",
      "\u001b[0;32m~/anaconda3/envs/pth-tf/lib/python3.6/site-packages/tensorflow/python/eager/def_function.py\u001b[0m in \u001b[0;36m_initialize\u001b[0;34m(self, args, kwds, add_initializers_to)\u001b[0m\n\u001b[1;32m    758\u001b[0m     self._concrete_stateful_fn = (\n\u001b[1;32m    759\u001b[0m         self._stateful_fn._get_concrete_function_internal_garbage_collected(  # pylint: disable=protected-access\n\u001b[0;32m--> 760\u001b[0;31m             *args, **kwds))\n\u001b[0m\u001b[1;32m    761\u001b[0m \u001b[0;34m\u001b[0m\u001b[0m\n\u001b[1;32m    762\u001b[0m     \u001b[0;32mdef\u001b[0m \u001b[0minvalid_creator_scope\u001b[0m\u001b[0;34m(\u001b[0m\u001b[0;34m*\u001b[0m\u001b[0munused_args\u001b[0m\u001b[0;34m,\u001b[0m \u001b[0;34m**\u001b[0m\u001b[0munused_kwds\u001b[0m\u001b[0;34m)\u001b[0m\u001b[0;34m:\u001b[0m\u001b[0;34m\u001b[0m\u001b[0;34m\u001b[0m\u001b[0m\n",
      "\u001b[0;32m~/anaconda3/envs/pth-tf/lib/python3.6/site-packages/tensorflow/python/eager/function.py\u001b[0m in \u001b[0;36m_get_concrete_function_internal_garbage_collected\u001b[0;34m(self, *args, **kwargs)\u001b[0m\n\u001b[1;32m   3057\u001b[0m       \u001b[0margs\u001b[0m\u001b[0;34m,\u001b[0m \u001b[0mkwargs\u001b[0m \u001b[0;34m=\u001b[0m \u001b[0;32mNone\u001b[0m\u001b[0;34m,\u001b[0m \u001b[0;32mNone\u001b[0m\u001b[0;34m\u001b[0m\u001b[0;34m\u001b[0m\u001b[0m\n\u001b[1;32m   3058\u001b[0m     \u001b[0;32mwith\u001b[0m \u001b[0mself\u001b[0m\u001b[0;34m.\u001b[0m\u001b[0m_lock\u001b[0m\u001b[0;34m:\u001b[0m\u001b[0;34m\u001b[0m\u001b[0;34m\u001b[0m\u001b[0m\n\u001b[0;32m-> 3059\u001b[0;31m       \u001b[0mgraph_function\u001b[0m\u001b[0;34m,\u001b[0m \u001b[0m_\u001b[0m \u001b[0;34m=\u001b[0m \u001b[0mself\u001b[0m\u001b[0;34m.\u001b[0m\u001b[0m_maybe_define_function\u001b[0m\u001b[0;34m(\u001b[0m\u001b[0margs\u001b[0m\u001b[0;34m,\u001b[0m \u001b[0mkwargs\u001b[0m\u001b[0;34m)\u001b[0m\u001b[0;34m\u001b[0m\u001b[0;34m\u001b[0m\u001b[0m\n\u001b[0m\u001b[1;32m   3060\u001b[0m     \u001b[0;32mreturn\u001b[0m \u001b[0mgraph_function\u001b[0m\u001b[0;34m\u001b[0m\u001b[0;34m\u001b[0m\u001b[0m\n\u001b[1;32m   3061\u001b[0m \u001b[0;34m\u001b[0m\u001b[0m\n",
      "\u001b[0;32m~/anaconda3/envs/pth-tf/lib/python3.6/site-packages/tensorflow/python/eager/function.py\u001b[0m in \u001b[0;36m_maybe_define_function\u001b[0;34m(self, args, kwargs)\u001b[0m\n\u001b[1;32m   3454\u001b[0m \u001b[0;34m\u001b[0m\u001b[0m\n\u001b[1;32m   3455\u001b[0m           \u001b[0mself\u001b[0m\u001b[0;34m.\u001b[0m\u001b[0m_function_cache\u001b[0m\u001b[0;34m.\u001b[0m\u001b[0mmissed\u001b[0m\u001b[0;34m.\u001b[0m\u001b[0madd\u001b[0m\u001b[0;34m(\u001b[0m\u001b[0mcall_context_key\u001b[0m\u001b[0;34m)\u001b[0m\u001b[0;34m\u001b[0m\u001b[0;34m\u001b[0m\u001b[0m\n\u001b[0;32m-> 3456\u001b[0;31m           \u001b[0mgraph_function\u001b[0m \u001b[0;34m=\u001b[0m \u001b[0mself\u001b[0m\u001b[0;34m.\u001b[0m\u001b[0m_create_graph_function\u001b[0m\u001b[0;34m(\u001b[0m\u001b[0margs\u001b[0m\u001b[0;34m,\u001b[0m \u001b[0mkwargs\u001b[0m\u001b[0;34m)\u001b[0m\u001b[0;34m\u001b[0m\u001b[0;34m\u001b[0m\u001b[0m\n\u001b[0m\u001b[1;32m   3457\u001b[0m           \u001b[0mself\u001b[0m\u001b[0;34m.\u001b[0m\u001b[0m_function_cache\u001b[0m\u001b[0;34m.\u001b[0m\u001b[0mprimary\u001b[0m\u001b[0;34m[\u001b[0m\u001b[0mcache_key\u001b[0m\u001b[0;34m]\u001b[0m \u001b[0;34m=\u001b[0m \u001b[0mgraph_function\u001b[0m\u001b[0;34m\u001b[0m\u001b[0;34m\u001b[0m\u001b[0m\n\u001b[1;32m   3458\u001b[0m \u001b[0;34m\u001b[0m\u001b[0m\n",
      "\u001b[0;32m~/anaconda3/envs/pth-tf/lib/python3.6/site-packages/tensorflow/python/eager/function.py\u001b[0m in \u001b[0;36m_create_graph_function\u001b[0;34m(self, args, kwargs, override_flat_arg_shapes)\u001b[0m\n\u001b[1;32m   3299\u001b[0m             \u001b[0marg_names\u001b[0m\u001b[0;34m=\u001b[0m\u001b[0marg_names\u001b[0m\u001b[0;34m,\u001b[0m\u001b[0;34m\u001b[0m\u001b[0;34m\u001b[0m\u001b[0m\n\u001b[1;32m   3300\u001b[0m             \u001b[0moverride_flat_arg_shapes\u001b[0m\u001b[0;34m=\u001b[0m\u001b[0moverride_flat_arg_shapes\u001b[0m\u001b[0;34m,\u001b[0m\u001b[0;34m\u001b[0m\u001b[0;34m\u001b[0m\u001b[0m\n\u001b[0;32m-> 3301\u001b[0;31m             capture_by_value=self._capture_by_value),\n\u001b[0m\u001b[1;32m   3302\u001b[0m         \u001b[0mself\u001b[0m\u001b[0;34m.\u001b[0m\u001b[0m_function_attributes\u001b[0m\u001b[0;34m,\u001b[0m\u001b[0;34m\u001b[0m\u001b[0;34m\u001b[0m\u001b[0m\n\u001b[1;32m   3303\u001b[0m         \u001b[0mfunction_spec\u001b[0m\u001b[0;34m=\u001b[0m\u001b[0mself\u001b[0m\u001b[0;34m.\u001b[0m\u001b[0mfunction_spec\u001b[0m\u001b[0;34m,\u001b[0m\u001b[0;34m\u001b[0m\u001b[0;34m\u001b[0m\u001b[0m\n",
      "\u001b[0;32m~/anaconda3/envs/pth-tf/lib/python3.6/site-packages/tensorflow/python/framework/func_graph.py\u001b[0m in \u001b[0;36mfunc_graph_from_py_func\u001b[0;34m(name, python_func, args, kwargs, signature, func_graph, autograph, autograph_options, add_control_dependencies, arg_names, op_return_value, collections, capture_by_value, override_flat_arg_shapes, acd_record_initial_resource_uses)\u001b[0m\n\u001b[1;32m   1005\u001b[0m         \u001b[0m_\u001b[0m\u001b[0;34m,\u001b[0m \u001b[0moriginal_func\u001b[0m \u001b[0;34m=\u001b[0m \u001b[0mtf_decorator\u001b[0m\u001b[0;34m.\u001b[0m\u001b[0munwrap\u001b[0m\u001b[0;34m(\u001b[0m\u001b[0mpython_func\u001b[0m\u001b[0;34m)\u001b[0m\u001b[0;34m\u001b[0m\u001b[0;34m\u001b[0m\u001b[0m\n\u001b[1;32m   1006\u001b[0m \u001b[0;34m\u001b[0m\u001b[0m\n\u001b[0;32m-> 1007\u001b[0;31m       \u001b[0mfunc_outputs\u001b[0m \u001b[0;34m=\u001b[0m \u001b[0mpython_func\u001b[0m\u001b[0;34m(\u001b[0m\u001b[0;34m*\u001b[0m\u001b[0mfunc_args\u001b[0m\u001b[0;34m,\u001b[0m \u001b[0;34m**\u001b[0m\u001b[0mfunc_kwargs\u001b[0m\u001b[0;34m)\u001b[0m\u001b[0;34m\u001b[0m\u001b[0;34m\u001b[0m\u001b[0m\n\u001b[0m\u001b[1;32m   1008\u001b[0m \u001b[0;34m\u001b[0m\u001b[0m\n\u001b[1;32m   1009\u001b[0m       \u001b[0;31m# invariant: `func_outputs` contains only Tensors, CompositeTensors,\u001b[0m\u001b[0;34m\u001b[0m\u001b[0;34m\u001b[0m\u001b[0;34m\u001b[0m\u001b[0m\n",
      "\u001b[0;32m~/anaconda3/envs/pth-tf/lib/python3.6/site-packages/tensorflow/python/eager/def_function.py\u001b[0m in \u001b[0;36mwrapped_fn\u001b[0;34m(*args, **kwds)\u001b[0m\n\u001b[1;32m    666\u001b[0m         \u001b[0;31m# the function a weak reference to itself to avoid a reference cycle.\u001b[0m\u001b[0;34m\u001b[0m\u001b[0;34m\u001b[0m\u001b[0;34m\u001b[0m\u001b[0m\n\u001b[1;32m    667\u001b[0m         \u001b[0;32mwith\u001b[0m \u001b[0mOptionalXlaContext\u001b[0m\u001b[0;34m(\u001b[0m\u001b[0mcompile_with_xla\u001b[0m\u001b[0;34m)\u001b[0m\u001b[0;34m:\u001b[0m\u001b[0;34m\u001b[0m\u001b[0;34m\u001b[0m\u001b[0m\n\u001b[0;32m--> 668\u001b[0;31m           \u001b[0mout\u001b[0m \u001b[0;34m=\u001b[0m \u001b[0mweak_wrapped_fn\u001b[0m\u001b[0;34m(\u001b[0m\u001b[0;34m)\u001b[0m\u001b[0;34m.\u001b[0m\u001b[0m__wrapped__\u001b[0m\u001b[0;34m(\u001b[0m\u001b[0;34m*\u001b[0m\u001b[0margs\u001b[0m\u001b[0;34m,\u001b[0m \u001b[0;34m**\u001b[0m\u001b[0mkwds\u001b[0m\u001b[0;34m)\u001b[0m\u001b[0;34m\u001b[0m\u001b[0;34m\u001b[0m\u001b[0m\n\u001b[0m\u001b[1;32m    669\u001b[0m         \u001b[0;32mreturn\u001b[0m \u001b[0mout\u001b[0m\u001b[0;34m\u001b[0m\u001b[0;34m\u001b[0m\u001b[0m\n\u001b[1;32m    670\u001b[0m \u001b[0;34m\u001b[0m\u001b[0m\n",
      "\u001b[0;32m~/anaconda3/envs/pth-tf/lib/python3.6/site-packages/tensorflow/python/eager/function.py\u001b[0m in \u001b[0;36mbound_method_wrapper\u001b[0;34m(*args, **kwargs)\u001b[0m\n\u001b[1;32m   3981\u001b[0m     \u001b[0;31m# However, the replacer is still responsible for attaching self properly.\u001b[0m\u001b[0;34m\u001b[0m\u001b[0;34m\u001b[0m\u001b[0;34m\u001b[0m\u001b[0m\n\u001b[1;32m   3982\u001b[0m     \u001b[0;31m# TODO(mdan): Is it possible to do it here instead?\u001b[0m\u001b[0;34m\u001b[0m\u001b[0;34m\u001b[0m\u001b[0;34m\u001b[0m\u001b[0m\n\u001b[0;32m-> 3983\u001b[0;31m     \u001b[0;32mreturn\u001b[0m \u001b[0mwrapped_fn\u001b[0m\u001b[0;34m(\u001b[0m\u001b[0;34m*\u001b[0m\u001b[0margs\u001b[0m\u001b[0;34m,\u001b[0m \u001b[0;34m**\u001b[0m\u001b[0mkwargs\u001b[0m\u001b[0;34m)\u001b[0m\u001b[0;34m\u001b[0m\u001b[0;34m\u001b[0m\u001b[0m\n\u001b[0m\u001b[1;32m   3984\u001b[0m   \u001b[0mweak_bound_method_wrapper\u001b[0m \u001b[0;34m=\u001b[0m \u001b[0mweakref\u001b[0m\u001b[0;34m.\u001b[0m\u001b[0mref\u001b[0m\u001b[0;34m(\u001b[0m\u001b[0mbound_method_wrapper\u001b[0m\u001b[0;34m)\u001b[0m\u001b[0;34m\u001b[0m\u001b[0;34m\u001b[0m\u001b[0m\n\u001b[1;32m   3985\u001b[0m \u001b[0;34m\u001b[0m\u001b[0m\n",
      "\u001b[0;32m~/anaconda3/envs/pth-tf/lib/python3.6/site-packages/tensorflow/python/framework/func_graph.py\u001b[0m in \u001b[0;36mwrapper\u001b[0;34m(*args, **kwargs)\u001b[0m\n\u001b[1;32m    992\u001b[0m           \u001b[0;32mexcept\u001b[0m \u001b[0mException\u001b[0m \u001b[0;32mas\u001b[0m \u001b[0me\u001b[0m\u001b[0;34m:\u001b[0m  \u001b[0;31m# pylint:disable=broad-except\u001b[0m\u001b[0;34m\u001b[0m\u001b[0;34m\u001b[0m\u001b[0m\n\u001b[1;32m    993\u001b[0m             \u001b[0;32mif\u001b[0m \u001b[0mhasattr\u001b[0m\u001b[0;34m(\u001b[0m\u001b[0me\u001b[0m\u001b[0;34m,\u001b[0m \u001b[0;34m\"ag_error_metadata\"\u001b[0m\u001b[0;34m)\u001b[0m\u001b[0;34m:\u001b[0m\u001b[0;34m\u001b[0m\u001b[0;34m\u001b[0m\u001b[0m\n\u001b[0;32m--> 994\u001b[0;31m               \u001b[0;32mraise\u001b[0m \u001b[0me\u001b[0m\u001b[0;34m.\u001b[0m\u001b[0mag_error_metadata\u001b[0m\u001b[0;34m.\u001b[0m\u001b[0mto_exception\u001b[0m\u001b[0;34m(\u001b[0m\u001b[0me\u001b[0m\u001b[0;34m)\u001b[0m\u001b[0;34m\u001b[0m\u001b[0;34m\u001b[0m\u001b[0m\n\u001b[0m\u001b[1;32m    995\u001b[0m             \u001b[0;32melse\u001b[0m\u001b[0;34m:\u001b[0m\u001b[0;34m\u001b[0m\u001b[0;34m\u001b[0m\u001b[0m\n\u001b[1;32m    996\u001b[0m               \u001b[0;32mraise\u001b[0m\u001b[0;34m\u001b[0m\u001b[0;34m\u001b[0m\u001b[0m\n",
      "\u001b[0;31mValueError\u001b[0m: in user code:\n\n    /home/luxian/anaconda3/envs/pth-tf/lib/python3.6/site-packages/onnx_tf/backend_tf_module.py:98 __call__  *\n        output_ops = self.backend._onnx_node_to_tensorflow_op(onnx_node,\n    /home/luxian/anaconda3/envs/pth-tf/lib/python3.6/site-packages/onnx_tf/backend.py:289 _onnx_node_to_tensorflow_op  *\n        return handler.handle(node, tensor_dict=tensor_dict, strict=strict)\n    /home/luxian/anaconda3/envs/pth-tf/lib/python3.6/site-packages/onnx_tf/handlers/handler.py:59 handle  *\n        return ver_handle(node, **kwargs)\n    /home/luxian/anaconda3/envs/pth-tf/lib/python3.6/site-packages/onnx_tf/handlers/backend/max_pool.py:28 version_8  *\n        return cls._common(node, **kwargs)\n    /home/luxian/anaconda3/envs/pth-tf/lib/python3.6/site-packages/onnx_tf/handlers/backend/max_pool.py:20 _common  *\n        kwargs.get(\"strict\", True))\n    /home/luxian/anaconda3/envs/pth-tf/lib/python3.6/site-packages/onnx_tf/handlers/backend/pool_mixin.py:171 pool  **\n        pooled, argmax = pooling_op()\n    /home/luxian/anaconda3/envs/pth-tf/lib/python3.6/site-packages/onnx_tf/handlers/backend/pool_mixin.py:110 dilated_pool\n        return (dp.dilated_pool(), None)\n    /home/luxian/anaconda3/envs/pth-tf/lib/python3.6/site-packages/onnx_tf/handlers/backend/dilated_pooling.py:679 dilated_pool\n        self.storage_format, self.compute_format))\n    /home/luxian/anaconda3/envs/pth-tf/lib/python3.6/site-packages/tensorflow/python/util/dispatch.py:206 wrapper\n        return target(*args, **kwargs)\n    /home/luxian/anaconda3/envs/pth-tf/lib/python3.6/site-packages/tensorflow/python/ops/array_ops.py:2228 transpose_v2\n        return transpose(a=a, perm=perm, name=name, conjugate=conjugate)\n    /home/luxian/anaconda3/envs/pth-tf/lib/python3.6/site-packages/tensorflow/python/util/dispatch.py:206 wrapper\n        return target(*args, **kwargs)\n    /home/luxian/anaconda3/envs/pth-tf/lib/python3.6/site-packages/tensorflow/python/ops/array_ops.py:2309 transpose\n        return transpose_fn(a, perm, name=name)\n    /home/luxian/anaconda3/envs/pth-tf/lib/python3.6/site-packages/tensorflow/python/ops/gen_array_ops.py:11659 transpose\n        \"Transpose\", x=x, perm=perm, name=name)\n    /home/luxian/anaconda3/envs/pth-tf/lib/python3.6/site-packages/tensorflow/python/framework/op_def_library.py:750 _apply_op_helper\n        attrs=attr_protos, op_def=op_def)\n    /home/luxian/anaconda3/envs/pth-tf/lib/python3.6/site-packages/tensorflow/python/framework/func_graph.py:601 _create_op_internal\n        compute_device)\n    /home/luxian/anaconda3/envs/pth-tf/lib/python3.6/site-packages/tensorflow/python/framework/ops.py:3569 _create_op_internal\n        op_def=op_def)\n    /home/luxian/anaconda3/envs/pth-tf/lib/python3.6/site-packages/tensorflow/python/framework/ops.py:2042 __init__\n        control_input_ops, op_def)\n    /home/luxian/anaconda3/envs/pth-tf/lib/python3.6/site-packages/tensorflow/python/framework/ops.py:1883 _create_c_op\n        raise ValueError(str(e))\n\n    ValueError: Dimension must be 4 but is 5 for '{{node transpose_3}} = Transpose[T=DT_FLOAT, Tperm=DT_INT32](onnx_tf_prefix_Relu_1, transpose_3/perm)' with input shapes: [1,64,22,92], [5].\n"
     ]
    }
   ],
   "source": [
    "from onnx_tf.backend import prepare\n",
    "import onnx\n",
    "\n",
    "# onnx to pb\n",
    "TF_PATH = \"./save_model/pbmodel\" # where the representation of tensorflow model will be stored\n",
    "ONNX_PATH = r'./save_model/lprnet81.0.onnx' # path to my existing ONNX model\n",
    "onnx_model = onnx.load(ONNX_PATH)  # load onnx model\n",
    "tf_rep = prepare(onnx_model)  # creating TensorflowRep object\n",
    "tf_rep.export_graph(TF_PATH)"
   ]
  },
  {
   "cell_type": "markdown",
   "metadata": {},
   "source": []
  },
  {
   "cell_type": "code",
   "execution_count": null,
   "metadata": {},
   "outputs": [],
   "source": [
    "# pb 转 tflite\n",
    "import tensorflow as tf\n",
    "\n",
    "TF_PATH = r\"./save_model/pbmodel\" \n",
    "TFLITE_PATH = pthfile[0:-3]+ r'tflite'\n",
    "converter = tf.lite.TFLiteConverter.from_saved_model(TF_PATH)\n",
    "converter.optimizations = [tf.lite.Optimize.DEFAULT]\n",
    "tf_lite_model = converter.convert()\n",
    "with open(TFLITE_PATH, 'wb') as f:\n",
    "    f.write(tf_lite_model)"
   ]
  }
 ],
 "metadata": {
  "kernelspec": {
   "display_name": "pth-tf",
   "language": "python",
   "name": "pth-tf"
  },
  "language_info": {
   "codemirror_mode": {
    "name": "ipython",
    "version": 3
   },
   "file_extension": ".py",
   "mimetype": "text/x-python",
   "name": "python",
   "nbconvert_exporter": "python",
   "pygments_lexer": "ipython3",
   "version": "3.6.13"
  }
 },
 "nbformat": 4,
 "nbformat_minor": 4
}
